{
  "cells": [
    {
      "cell_type": "markdown",
      "metadata": {
        "id": "SbeRuAEXeI_y"
      },
      "source": [
        "# Imports and code to run on TPU"
      ]
    },
    {
      "cell_type": "code",
      "execution_count": null,
      "metadata": {
        "colab": {
          "base_uri": "https://localhost:8080/"
        },
        "id": "6yazAj38C_Wu",
        "outputId": "e43a434e-fd8a-4e2a-98ba-023af77fa913"
      },
      "outputs": [
        {
          "output_type": "stream",
          "name": "stdout",
          "text": [
            "Requirement already satisfied: lightgbm in /usr/local/lib/python3.7/dist-packages (2.2.3)\n",
            "Requirement already satisfied: scipy in /usr/local/lib/python3.7/dist-packages (from lightgbm) (1.4.1)\n",
            "Requirement already satisfied: numpy in /usr/local/lib/python3.7/dist-packages (from lightgbm) (1.21.5)\n",
            "Requirement already satisfied: scikit-learn in /usr/local/lib/python3.7/dist-packages (from lightgbm) (1.0.2)\n",
            "Requirement already satisfied: joblib>=0.11 in /usr/local/lib/python3.7/dist-packages (from scikit-learn->lightgbm) (1.1.0)\n",
            "Requirement already satisfied: threadpoolctl>=2.0.0 in /usr/local/lib/python3.7/dist-packages (from scikit-learn->lightgbm) (3.1.0)\n"
          ]
        }
      ],
      "source": [
        "#BEFORE EXECUTING PLEASE SWITCH RUNTIME TO TPU AND UPLOAD THE 4 FILES FOR THE DATASETS IN\n",
        "#APPROPRIATELY NAMED FOLDERS (AS DONE IN THE BASELINE CODE)\n",
        "#Making necessary imports and installing lightgbm\n",
        "\n",
        "\n",
        "!pip install lightgbm\n",
        "\n",
        "import pandas as pd\n",
        "import numpy as np\n",
        "import matplotlib.pyplot as plt\n",
        "\n",
        "import keras\n",
        "import tensorflow as tf\n",
        "from sklearn.model_selection import train_test_split\n",
        "from keras import optimizers, losses, activations, models, Sequential\n",
        "from keras.callbacks import ModelCheckpoint, EarlyStopping, LearningRateScheduler, ReduceLROnPlateau\n",
        "from keras.layers import Dense, Input, Dropout, Convolution1D, MaxPool1D, GlobalMaxPool1D, GlobalAveragePooling1D, \\\n",
        "    concatenate, Bidirectional, LSTM, GRU, SimpleRNN, Activation, BatchNormalization, LayerNormalization, GaussianDropout, SpatialDropout1D, AveragePooling1D, Flatten\n",
        "from sklearn.metrics import f1_score, accuracy_score\n",
        "import os\n",
        "import lightgbm as lgb\n",
        "\n",
        "from keras.metrics import AUC\n",
        "from sklearn.metrics import confusion_matrix\n",
        "from keras.models import load_model\n",
        "\n"
      ]
    },
    {
      "cell_type": "code",
      "execution_count": null,
      "metadata": {
        "id": "0wyieiDUDPeJ",
        "outputId": "47b05b7f-4515-48b8-84a5-3aae7f841c37",
        "colab": {
          "base_uri": "https://localhost:8080/"
        }
      },
      "outputs": [
        {
          "output_type": "stream",
          "name": "stdout",
          "text": [
            "INFO:tensorflow:Deallocate tpu buffers before initializing tpu system.\n"
          ]
        },
        {
          "output_type": "stream",
          "name": "stderr",
          "text": [
            "INFO:tensorflow:Deallocate tpu buffers before initializing tpu system.\n"
          ]
        },
        {
          "output_type": "stream",
          "name": "stdout",
          "text": [
            "INFO:tensorflow:Initializing the TPU system: grpc://10.40.16.42:8470\n"
          ]
        },
        {
          "output_type": "stream",
          "name": "stderr",
          "text": [
            "INFO:tensorflow:Initializing the TPU system: grpc://10.40.16.42:8470\n"
          ]
        },
        {
          "output_type": "stream",
          "name": "stdout",
          "text": [
            "INFO:tensorflow:Finished initializing TPU system.\n"
          ]
        },
        {
          "output_type": "stream",
          "name": "stderr",
          "text": [
            "INFO:tensorflow:Finished initializing TPU system.\n",
            "WARNING:absl:`tf.distribute.experimental.TPUStrategy` is deprecated, please use  the non experimental symbol `tf.distribute.TPUStrategy` instead.\n"
          ]
        },
        {
          "output_type": "stream",
          "name": "stdout",
          "text": [
            "INFO:tensorflow:Found TPU system:\n"
          ]
        },
        {
          "output_type": "stream",
          "name": "stderr",
          "text": [
            "INFO:tensorflow:Found TPU system:\n"
          ]
        },
        {
          "output_type": "stream",
          "name": "stdout",
          "text": [
            "INFO:tensorflow:*** Num TPU Cores: 8\n"
          ]
        },
        {
          "output_type": "stream",
          "name": "stderr",
          "text": [
            "INFO:tensorflow:*** Num TPU Cores: 8\n"
          ]
        },
        {
          "output_type": "stream",
          "name": "stdout",
          "text": [
            "INFO:tensorflow:*** Num TPU Workers: 1\n"
          ]
        },
        {
          "output_type": "stream",
          "name": "stderr",
          "text": [
            "INFO:tensorflow:*** Num TPU Workers: 1\n"
          ]
        },
        {
          "output_type": "stream",
          "name": "stdout",
          "text": [
            "INFO:tensorflow:*** Num TPU Cores Per Worker: 8\n"
          ]
        },
        {
          "output_type": "stream",
          "name": "stderr",
          "text": [
            "INFO:tensorflow:*** Num TPU Cores Per Worker: 8\n"
          ]
        },
        {
          "output_type": "stream",
          "name": "stdout",
          "text": [
            "INFO:tensorflow:*** Available Device: _DeviceAttributes(/job:localhost/replica:0/task:0/device:CPU:0, CPU, 0, 0)\n"
          ]
        },
        {
          "output_type": "stream",
          "name": "stderr",
          "text": [
            "INFO:tensorflow:*** Available Device: _DeviceAttributes(/job:localhost/replica:0/task:0/device:CPU:0, CPU, 0, 0)\n"
          ]
        },
        {
          "output_type": "stream",
          "name": "stdout",
          "text": [
            "INFO:tensorflow:*** Available Device: _DeviceAttributes(/job:worker/replica:0/task:0/device:CPU:0, CPU, 0, 0)\n"
          ]
        },
        {
          "output_type": "stream",
          "name": "stderr",
          "text": [
            "INFO:tensorflow:*** Available Device: _DeviceAttributes(/job:worker/replica:0/task:0/device:CPU:0, CPU, 0, 0)\n"
          ]
        },
        {
          "output_type": "stream",
          "name": "stdout",
          "text": [
            "INFO:tensorflow:*** Available Device: _DeviceAttributes(/job:worker/replica:0/task:0/device:TPU:0, TPU, 0, 0)\n"
          ]
        },
        {
          "output_type": "stream",
          "name": "stderr",
          "text": [
            "INFO:tensorflow:*** Available Device: _DeviceAttributes(/job:worker/replica:0/task:0/device:TPU:0, TPU, 0, 0)\n"
          ]
        },
        {
          "output_type": "stream",
          "name": "stdout",
          "text": [
            "INFO:tensorflow:*** Available Device: _DeviceAttributes(/job:worker/replica:0/task:0/device:TPU:1, TPU, 0, 0)\n"
          ]
        },
        {
          "output_type": "stream",
          "name": "stderr",
          "text": [
            "INFO:tensorflow:*** Available Device: _DeviceAttributes(/job:worker/replica:0/task:0/device:TPU:1, TPU, 0, 0)\n"
          ]
        },
        {
          "output_type": "stream",
          "name": "stdout",
          "text": [
            "INFO:tensorflow:*** Available Device: _DeviceAttributes(/job:worker/replica:0/task:0/device:TPU:2, TPU, 0, 0)\n"
          ]
        },
        {
          "output_type": "stream",
          "name": "stderr",
          "text": [
            "INFO:tensorflow:*** Available Device: _DeviceAttributes(/job:worker/replica:0/task:0/device:TPU:2, TPU, 0, 0)\n"
          ]
        },
        {
          "output_type": "stream",
          "name": "stdout",
          "text": [
            "INFO:tensorflow:*** Available Device: _DeviceAttributes(/job:worker/replica:0/task:0/device:TPU:3, TPU, 0, 0)\n"
          ]
        },
        {
          "output_type": "stream",
          "name": "stderr",
          "text": [
            "INFO:tensorflow:*** Available Device: _DeviceAttributes(/job:worker/replica:0/task:0/device:TPU:3, TPU, 0, 0)\n"
          ]
        },
        {
          "output_type": "stream",
          "name": "stdout",
          "text": [
            "INFO:tensorflow:*** Available Device: _DeviceAttributes(/job:worker/replica:0/task:0/device:TPU:4, TPU, 0, 0)\n"
          ]
        },
        {
          "output_type": "stream",
          "name": "stderr",
          "text": [
            "INFO:tensorflow:*** Available Device: _DeviceAttributes(/job:worker/replica:0/task:0/device:TPU:4, TPU, 0, 0)\n"
          ]
        },
        {
          "output_type": "stream",
          "name": "stdout",
          "text": [
            "INFO:tensorflow:*** Available Device: _DeviceAttributes(/job:worker/replica:0/task:0/device:TPU:5, TPU, 0, 0)\n"
          ]
        },
        {
          "output_type": "stream",
          "name": "stderr",
          "text": [
            "INFO:tensorflow:*** Available Device: _DeviceAttributes(/job:worker/replica:0/task:0/device:TPU:5, TPU, 0, 0)\n"
          ]
        },
        {
          "output_type": "stream",
          "name": "stdout",
          "text": [
            "INFO:tensorflow:*** Available Device: _DeviceAttributes(/job:worker/replica:0/task:0/device:TPU:6, TPU, 0, 0)\n"
          ]
        },
        {
          "output_type": "stream",
          "name": "stderr",
          "text": [
            "INFO:tensorflow:*** Available Device: _DeviceAttributes(/job:worker/replica:0/task:0/device:TPU:6, TPU, 0, 0)\n"
          ]
        },
        {
          "output_type": "stream",
          "name": "stdout",
          "text": [
            "INFO:tensorflow:*** Available Device: _DeviceAttributes(/job:worker/replica:0/task:0/device:TPU:7, TPU, 0, 0)\n"
          ]
        },
        {
          "output_type": "stream",
          "name": "stderr",
          "text": [
            "INFO:tensorflow:*** Available Device: _DeviceAttributes(/job:worker/replica:0/task:0/device:TPU:7, TPU, 0, 0)\n"
          ]
        },
        {
          "output_type": "stream",
          "name": "stdout",
          "text": [
            "INFO:tensorflow:*** Available Device: _DeviceAttributes(/job:worker/replica:0/task:0/device:TPU_SYSTEM:0, TPU_SYSTEM, 0, 0)\n"
          ]
        },
        {
          "output_type": "stream",
          "name": "stderr",
          "text": [
            "INFO:tensorflow:*** Available Device: _DeviceAttributes(/job:worker/replica:0/task:0/device:TPU_SYSTEM:0, TPU_SYSTEM, 0, 0)\n"
          ]
        },
        {
          "output_type": "stream",
          "name": "stdout",
          "text": [
            "INFO:tensorflow:*** Available Device: _DeviceAttributes(/job:worker/replica:0/task:0/device:XLA_CPU:0, XLA_CPU, 0, 0)\n"
          ]
        },
        {
          "output_type": "stream",
          "name": "stderr",
          "text": [
            "INFO:tensorflow:*** Available Device: _DeviceAttributes(/job:worker/replica:0/task:0/device:XLA_CPU:0, XLA_CPU, 0, 0)\n"
          ]
        }
      ],
      "source": [
        "#TPU setup to accelerate computations\n",
        "\n",
        "resolver = tf.distribute.cluster_resolver.TPUClusterResolver(tpu='grpc://' + os.environ['COLAB_TPU_ADDR'])\n",
        "#Connect to the TPU handle and initialise it\n",
        "tf.config.experimental_connect_to_cluster(resolver)\n",
        "tf.tpu.experimental.initialize_tpu_system(resolver)\n",
        "strategy = tf.distribute.experimental.TPUStrategy(resolver)"
      ]
    },
    {
      "cell_type": "markdown",
      "metadata": {
        "id": "D3MremPkeQGc"
      },
      "source": [
        "# Data loading : MITBIH and PTBDB"
      ]
    },
    {
      "cell_type": "code",
      "execution_count": null,
      "metadata": {
        "id": "_Dd8bwEHDPpZ"
      },
      "outputs": [],
      "source": [
        "#Importing MITBIH dataset\n",
        "\n",
        "df_train = pd.read_csv(\"../input/mitbih_train.csv\", header=None)\n",
        "df_train = df_train.sample(frac=1)\n",
        "df_test = pd.read_csv(\"../input/mitbih_test.csv\", header=None)\n",
        "\n",
        "Y = np.array(df_train[187].values).astype(np.int8)\n",
        "X = np.array(df_train[list(range(187))].values)[..., np.newaxis]\n",
        "\n",
        "Y_test = np.array(df_test[187].values).astype(np.int8)\n",
        "X_test = np.array(df_test[list(range(187))].values)[..., np.newaxis]"
      ]
    },
    {
      "cell_type": "code",
      "execution_count": null,
      "metadata": {
        "id": "1PR1eYyhDPzM"
      },
      "outputs": [],
      "source": [
        "#Importing PTBDB dataset\n",
        "\n",
        "df_1 = pd.read_csv(\"../input/ptbdb_normal.csv\", header=None)\n",
        "df_2 = pd.read_csv(\"../input/ptbdb_abnormal.csv\", header=None)\n",
        "df = pd.concat([df_1, df_2])\n",
        "\n",
        "df_train_ptbdb, df_test_ptbdb = train_test_split(df, test_size=0.2, random_state=1337, stratify=df[187])\n",
        "\n",
        "\n",
        "Y_ptbdb = np.array(df_train_ptbdb[187].values).astype(np.int8)\n",
        "X_ptbdb = np.array(df_train_ptbdb[list(range(187))].values)[..., np.newaxis]\n",
        "\n",
        "Y_test_ptbdb = np.array(df_test_ptbdb[187].values).astype(np.int8)\n",
        "X_test_ptbdb = np.array(df_test_ptbdb[list(range(187))].values)[..., np.newaxis]"
      ]
    },
    {
      "cell_type": "markdown",
      "metadata": {
        "id": "wegA8NDqedOI"
      },
      "source": [
        "## Data distribution and imbalance"
      ]
    },
    {
      "cell_type": "code",
      "execution_count": null,
      "metadata": {
        "id": "7V9K-4RSefaZ",
        "outputId": "2cd13ef5-03d2-41da-ab6a-c3a9fd102367"
      },
      "outputs": [
        {
          "data": {
            "text/plain": [
              "Text(0, 0.5, 'Proportion in test set')"
            ]
          },
          "execution_count": 5,
          "metadata": {},
          "output_type": "execute_result"
        },
        {
          "data": {
            "image/png": "[encoded data removed]",
            "text/plain": [
              "<Figure size 432x288 with 1 Axes>"
            ]
          },
          "metadata": {
            "needs_background": "light"
          },
          "output_type": "display_data"
        },
        {
          "data": {
            "image/png": "[encoded data removed]",
            "text/plain": [
              "<Figure size 432x288 with 1 Axes>"
            ]
          },
          "metadata": {
            "needs_background": "light"
          },
          "output_type": "display_data"
        }
      ],
      "source": [
        "class_names = [str(i) for i in range(2)]\n",
        "labels, counts = np.unique(Y_ptbdb, return_counts=True)\n",
        "\n",
        "fig, ax = plt.subplots()\n",
        "ax.set_xticks(labels)\n",
        "ax.set_xlabel('Classes PTBDB')\n",
        "ax.bar(labels, counts/Y_ptbdb.shape[0], align='center')\n",
        "ax.set_ylabel(\"Proportion in training set\")\n",
        "\n",
        "labels, counts = np.unique(Y_test_ptbdb, return_counts=True)\n",
        "fig, ax = plt.subplots()\n",
        "ax.set_xticks(labels)\n",
        "ax.set_xlabel('Classes PTBDB')\n",
        "ax.bar(labels, counts/Y_test_ptbdb.shape[0], align='center')\n",
        "ax.set_ylabel(\"Proportion in test set\")"
      ]
    },
    {
      "cell_type": "code",
      "execution_count": null,
      "metadata": {
        "id": "jrFBVjVzepU7",
        "outputId": "605a266a-e857-478b-8511-0f072086596f"
      },
      "outputs": [
        {
          "data": {
            "text/plain": [
              "Text(0, 0.5, 'Proportion in test set')"
            ]
          },
          "execution_count": 6,
          "metadata": {},
          "output_type": "execute_result"
        },
        {
          "data": {
            "image/png": "[encoded data removed]",
            "text/plain": [
              "<Figure size 432x288 with 1 Axes>"
            ]
          },
          "metadata": {
            "needs_background": "light"
          },
          "output_type": "display_data"
        },
        {
          "data": {
            "image/png": "[encoded data removed]",
            "text/plain": [
              "<Figure size 432x288 with 1 Axes>"
            ]
          },
          "metadata": {
            "needs_background": "light"
          },
          "output_type": "display_data"
        }
      ],
      "source": [
        "class_names = [str(i) for i in range(5)]\n",
        "labels, counts = np.unique(Y, return_counts=True)\n",
        "\n",
        "fig, ax = plt.subplots()\n",
        "ax.set_xticks(labels)\n",
        "ax.set_xlabel('Classes MITBIH')\n",
        "ax.bar(labels, counts/Y.shape[0], align='center')\n",
        "ax.set_ylabel(\"Proportion in training set\")\n",
        "\n",
        "labels, counts = np.unique(Y_test, return_counts=True)\n",
        "fig, ax = plt.subplots()\n",
        "ax.set_xticks(labels)\n",
        "ax.set_xlabel('Classes MITBIH')\n",
        "ax.bar(labels, counts/Y_test.shape[0], align='center')\n",
        "ax.set_ylabel(\"Proportion in test set\")"
      ]
    },
    {
      "cell_type": "markdown",
      "metadata": {
        "id": "H5Os8aMLL0bI"
      },
      "source": [
        "## ECG Graphs"
      ]
    },
    {
      "cell_type": "code",
      "execution_count": null,
      "metadata": {
        "id": "PXN_phfgL0bI",
        "outputId": "6d92f2d1-267d-4cac-8d2b-1513f1b0b2c3"
      },
      "outputs": [
        {
          "data": {
            "image/png": "[encoded data removed]",
            "text/plain": [
              "<Figure size 1800x360 with 3 Axes>"
            ]
          },
          "metadata": {
            "needs_background": "light"
          },
          "output_type": "display_data"
        },
        {
          "data": {
            "image/png": "[encoded data removed]",
            "text/plain": [
              "<Figure size 1800x360 with 3 Axes>"
            ]
          },
          "metadata": {
            "needs_background": "light"
          },
          "output_type": "display_data"
        }
      ],
      "source": [
        "plt.figure(figsize=(25,5))\n",
        "plt.suptitle(\"Series MITBIH Dataset\")\n",
        "for j in range(3):\n",
        "  plt.subplot(1,3,j+1)\n",
        "  plt.plot(X[j])\n",
        "  plt.title(\"Class \" + str(Y[j])) \n",
        "\n",
        "\n",
        "plt.figure(figsize=(25,5))\n",
        "plt.suptitle(\"Series PTBDB Dataset\")\n",
        "for j in range(3):\n",
        "  plt.subplot(1,3,j+1)\n",
        "  plt.plot(X_ptbdb[j])\n",
        "  plt.title(\"Class \" + str(Y_ptbdb[j])) "
      ]
    },
    {
      "cell_type": "markdown",
      "metadata": {
        "id": "WdHy5dxtL0bJ"
      },
      "source": [
        "## Define ROC and PR"
      ]
    },
    {
      "cell_type": "code",
      "execution_count": null,
      "metadata": {
        "id": "KpIo7SgD0eiZ"
      },
      "outputs": [],
      "source": [
        "# define metrics\n",
        "AUCROC = AUC(curve='ROC')\n",
        "AUCPR = AUC(curve='PR')"
      ]
    },
    {
      "cell_type": "markdown",
      "metadata": {
        "id": "OdsT1QsAL0bJ"
      },
      "source": [
        "# Task 1 : Vanilla CNNs and RNNs"
      ]
    },
    {
      "cell_type": "markdown",
      "metadata": {
        "id": "SBQ7PvbdL0bJ"
      },
      "source": [
        "## Vanilla CNN"
      ]
    },
    {
      "cell_type": "markdown",
      "metadata": {
        "id": "F1nxaDnUL0bJ"
      },
      "source": [
        "### PTBDB"
      ]
    },
    {
      "cell_type": "code",
      "execution_count": null,
      "metadata": {
        "id": "V5-yjL0ZjTwF"
      },
      "outputs": [],
      "source": [
        "# Vanilla CNN ptbdb\n",
        "\n",
        "def get_model1():\n",
        "    nclass = 1\n",
        "    inp = Input(shape=(187, 1))\n",
        "    img_1 = Convolution1D(16, kernel_size=5, activation=activations.relu, padding=\"valid\")(inp)\n",
        "    img_1 = Convolution1D(16, kernel_size=5, activation=activations.relu, padding=\"valid\")(img_1)\n",
        "    img_1 = Convolution1D(16, kernel_size=5, activation=activations.relu, padding=\"valid\")(img_1)\n",
        "    img_1 = MaxPool1D(pool_size=2)(img_1)\n",
        "    img_1 = Dropout(rate=0.1)(img_1)\n",
        "    img_1 = Convolution1D(32, kernel_size=3, activation=activations.relu, padding=\"valid\")(img_1)\n",
        "    img_1 = Convolution1D(32, kernel_size=3, activation=activations.relu, padding=\"valid\")(img_1)\n",
        "    img_1 = Convolution1D(32, kernel_size=3, activation=activations.relu, padding=\"valid\")(img_1)\n",
        "    img_1 = MaxPool1D(pool_size=2)(img_1)\n",
        "    img_1 = Dropout(rate=0.1)(img_1)\n",
        "    img_1 = Convolution1D(32, kernel_size=3, activation=activations.relu, padding=\"valid\")(img_1)\n",
        "    img_1 = Convolution1D(32, kernel_size=3, activation=activations.relu, padding=\"valid\")(img_1)\n",
        "    img_1 = Convolution1D(32, kernel_size=3, activation=activations.relu, padding=\"valid\")(img_1)\n",
        "    img_1 = MaxPool1D(pool_size=2)(img_1)\n",
        "    img_1 = Dropout(rate=0.1)(img_1)\n",
        "    img_1 = Convolution1D(256, kernel_size=3, activation=activations.relu, padding=\"valid\")(img_1)\n",
        "    img_1 = Convolution1D(256, kernel_size=3, activation=activations.relu, padding=\"valid\")(img_1)\n",
        "    img_1 = Convolution1D(256, kernel_size=3, activation=activations.relu, padding=\"valid\")(img_1)\n",
        "    img_1 = GlobalMaxPool1D()(img_1)\n",
        "    img_1 = Dropout(rate=0.2)(img_1)\n",
        "\n",
        "    dense_1 = Dense(64, activation=activations.relu, name=\"dense_1\")(img_1)\n",
        "    dense_1 = Dense(64, activation=activations.relu, name=\"dense_2\")(dense_1)\n",
        "    dense_1 = Dense(nclass, activation=activations.sigmoid, name=\"dense_3_ptbdb\")(dense_1)\n",
        "\n",
        "    model = models.Model(inputs=inp, outputs=dense_1)\n",
        "    opt = optimizers.Adam(0.001)\n",
        "\n",
        "    model.compile(optimizer=opt, loss=losses.binary_crossentropy, metrics=[AUCROC,AUCPR,'acc'])\n",
        "    model.summary()\n",
        "    return model\n",
        "\n",
        "def get_model11():\n",
        "    nclass = 1\n",
        "    inp = Input(shape=(187, 1))\n",
        "    img_1 = Convolution1D(16, kernel_size=5, activation=activations.relu, padding=\"valid\")(inp)\n",
        "    img_1 = Convolution1D(16, kernel_size=5, activation=activations.relu, padding=\"valid\")(img_1)\n",
        "    img_1 = MaxPool1D(pool_size=4)(img_1)\n",
        "    img_1 = Dropout(rate=0.1)(img_1)\n",
        "    img_1 = Convolution1D(32, kernel_size=3, activation=activations.relu, padding=\"valid\")(img_1)\n",
        "    img_1 = Convolution1D(32, kernel_size=3, activation=activations.relu, padding=\"valid\")(img_1)\n",
        "    img_1 = MaxPool1D(pool_size=4)(img_1)\n",
        "    img_1 = Dropout(rate=0.1)(img_1)\n",
        "    img_1 = Convolution1D(256, kernel_size=3, activation=activations.relu, padding=\"valid\")(img_1)\n",
        "    img_1 = Convolution1D(256, kernel_size=3, activation=activations.relu, padding=\"valid\")(img_1)\n",
        "    img_1 = GlobalMaxPool1D()(img_1)\n",
        "    img_1 = Dropout(rate=0.2)(img_1)\n",
        "\n",
        "    dense_1 = Dense(64, activation=activations.relu, name=\"dense_1\")(img_1)\n",
        "    dense_1 = Dense(64, activation=activations.relu, name=\"dense_2\")(dense_1)\n",
        "    dense_1 = Dense(nclass, activation=activations.sigmoid, name=\"dense_3_ptbdb\")(dense_1)\n",
        "\n",
        "    model = models.Model(inputs=inp, outputs=dense_1)\n",
        "    opt = optimizers.Adam(0.001)\n",
        "\n",
        "    model.compile(optimizer=opt, loss=losses.binary_crossentropy, metrics=[AUCROC,AUCPR,'acc'])\n",
        "    model.summary()\n",
        "    return model\n",
        "\n",
        "def get_model17():\n",
        "    nclass = 1\n",
        "    inp = Input(shape=(187, 1))\n",
        "    img_1 = Convolution1D(16, kernel_size=5, activation=activations.tanh, padding=\"valid\")(inp)\n",
        "    img_1 = Convolution1D(16, kernel_size=5, activation=activations.tanh, padding=\"valid\")(img_1)\n",
        "    img_1 = MaxPool1D(pool_size=2)(img_1)\n",
        "    img_1 = Dropout(rate=0.1)(img_1)\n",
        "    img_1 = Convolution1D(32, kernel_size=3, activation=activations.tanh, padding=\"valid\")(img_1)\n",
        "    img_1 = Convolution1D(32, kernel_size=3, activation=activations.tanh, padding=\"valid\")(img_1)\n",
        "    img_1 = MaxPool1D(pool_size=2)(img_1)\n",
        "    img_1 = Dropout(rate=0.1)(img_1)\n",
        "    img_1 = Convolution1D(32, kernel_size=3, activation=activations.tanh, padding=\"valid\")(img_1)\n",
        "    img_1 = Convolution1D(32, kernel_size=3, activation=activations.tanh, padding=\"valid\")(img_1)\n",
        "    img_1 = MaxPool1D(pool_size=2)(img_1)\n",
        "    img_1 = Dropout(rate=0.1)(img_1)\n",
        "    img_1 = Convolution1D(256, kernel_size=3, activation=activations.tanh, padding=\"valid\")(img_1)\n",
        "    img_1 = Convolution1D(256, kernel_size=3, activation=activations.tanh, padding=\"valid\")(img_1)\n",
        "    img_1 = GlobalMaxPool1D()(img_1)\n",
        "    img_1 = Dropout(rate=0.2)(img_1)\n",
        "\n",
        "    dense_1 = Dense(64, activation=activations.relu, name=\"dense_1\")(img_1)\n",
        "    dense_1 = Dense(64, activation=activations.relu, name=\"dense_2\")(dense_1)\n",
        "    dense_1 = Dense(nclass, activation=activations.sigmoid, name=\"dense_3_ptbdb\")(dense_1)\n",
        "\n",
        "    model = models.Model(inputs=inp, outputs=dense_1)\n",
        "    opt = optimizers.Adam(0.001)\n",
        "\n",
        "    model.compile(optimizer=opt, loss=losses.binary_crossentropy, metrics=[AUCROC,AUCPR,'acc'])\n",
        "    model.summary()\n",
        "    return model\n"
      ]
    },
    {
      "cell_type": "code",
      "execution_count": null,
      "metadata": {
        "id": "rRMP-04yL0bK",
        "outputId": "ccfa5ccd-5b6b-4c9c-8183-5cf842a16c8f"
      },
      "outputs": [
        {
          "name": "stdout",
          "output_type": "stream",
          "text": [
            "Model 1\n",
            "Test f1 score : 0.9930935937127887 \n",
            "Test accuracy score : 0.9900377877018207 \n",
            "\n",
            "Model 11\n",
            "Test f1 score : 0.9959648706384999 \n",
            "Test accuracy score : 0.9941600824458949 \n",
            "\n",
            "Model 17\n",
            "Test f1 score : 0.9940546967895363 \n",
            "Test accuracy score : 0.9914118859498454 \n",
            "\n"
          ]
        }
      ],
      "source": [
        "fitCNN = True #in all the code put True if you want to fit the model from 0 or False if you want to load the pre-trained h5 files\n",
        "\n",
        "if fitCNN:\n",
        "    #model 1\n",
        "    model1 = get_model1()\n",
        "    file_path = \"model1_cnn_ptbdb.h5\"\n",
        "    checkpoint = ModelCheckpoint(file_path, monitor='val_acc', verbose=1, save_best_only=True, mode='max')\n",
        "    early = EarlyStopping(monitor=\"val_acc\", mode=\"max\", patience=5, verbose=1)\n",
        "    redonplat = ReduceLROnPlateau(monitor=\"val_acc\", mode=\"max\", patience=3, verbose=2)\n",
        "    callbacks_list = [checkpoint, early, redonplat]  # early\n",
        "\n",
        "    history1 = model1.fit(X_ptbdb, Y_ptbdb, epochs=1000, verbose=2, callbacks=callbacks_list, validation_split=0.1)\n",
        "    model1.load_weights(file_path)\n",
        "\n",
        "    pred_test = model1.predict(X_test_ptbdb)\n",
        "    pred_test = (pred_test>0.5).astype(np.int8)\n",
        "\n",
        "    f1 = f1_score(Y_test_ptbdb, pred_test)\n",
        "\n",
        "    print(\"Test f1 score : %s \"% f1)\n",
        "\n",
        "    acc = accuracy_score(Y_test_ptbdb, pred_test)\n",
        "\n",
        "    print(\"Test accuracy score : %s \"% acc)\n",
        "\n",
        "    # Test f1 score : 0.9930935937127887 \n",
        "    # Test accuracy score : 0.9900377877018207\n",
        "    # AUCROC: 0.9993\n",
        "    # AUCPR:  0.999\n",
        "\n",
        "\n",
        "    #model 11\n",
        "    model11 = get_model11()\n",
        "    file_path = \"model11_cnn_ptbdb.h5\"\n",
        "    checkpoint = ModelCheckpoint(file_path, monitor='val_acc', verbose=1, save_best_only=True, mode='max')\n",
        "    early = EarlyStopping(monitor=\"val_acc\", mode=\"max\", patience=5, verbose=1)\n",
        "    redonplat = ReduceLROnPlateau(monitor=\"val_acc\", mode=\"max\", patience=3, verbose=2)\n",
        "    callbacks_list = [checkpoint, early, redonplat]  # early\n",
        "\n",
        "    history11 = model11.fit(X_ptbdb, Y_ptbdb, epochs=1000, verbose=2, callbacks=callbacks_list, validation_split=0.1)\n",
        "    model11.load_weights(file_path)\n",
        "\n",
        "    pred_test11_ptbdb = model11.predict(X_test_ptbdb)\n",
        "    pred_test11_ptbdb = (pred_test11_ptbdb>0.5).astype(np.int8)\n",
        "\n",
        "    f1 = f1_score(Y_test_ptbdb, pred_test11_ptbdb)\n",
        "\n",
        "    print(\"Test f1 score : %s \"% f1)\n",
        "\n",
        "    acc = accuracy_score(Y_test_ptbdb, pred_test11_ptbdb)\n",
        "\n",
        "    print(\"Test accuracy score : %s \"% acc)\n",
        "\n",
        "    # Test f1 score : 0.9959648706384999 \n",
        "    # Test accuracy score : 0.9941600824458949\n",
        "    # AUCROC: 0.9996\n",
        "    # AUCPR:  0.9999\n",
        "\n",
        "    #model17\n",
        "    model17 = get_model17()\n",
        "    file_path = \"model17_cnn_ptbdb.h5\"\n",
        "    checkpoint = ModelCheckpoint(file_path, monitor='val_acc', verbose=1, save_best_only=True, mode='max')\n",
        "    early = EarlyStopping(monitor=\"val_acc\", mode=\"max\", patience=5, verbose=1)\n",
        "    redonplat = ReduceLROnPlateau(monitor=\"val_acc\", mode=\"max\", patience=3, verbose=2)\n",
        "    callbacks_list = [checkpoint, early, redonplat]  # early\n",
        "\n",
        "    history17 = model17.fit(X_ptbdb, Y_ptbdb, epochs=1000, verbose=2, callbacks=callbacks_list, validation_split=0.1)\n",
        "    model17.load_weights(file_path)\n",
        "\n",
        "    pred_test17 = model17.predict(X_test_ptbdb)\n",
        "    pred_test17 = (pred_test17>0.5).astype(np.int8)\n",
        "\n",
        "    f1 = f1_score(Y_test_ptbdb, pred_test17)\n",
        "\n",
        "    print(\"Test f1 score : %s \"% f1)\n",
        "\n",
        "    acc = accuracy_score(Y_test_ptbdb, pred_test17)\n",
        "\n",
        "    print(\"Test accuracy score : %s \"% acc)\n",
        "\n",
        "    # Test f1 score : 0.9940546967895363 \n",
        "    # Test accuracy score : 0.9914118859498454\n",
        "    # AUCROC: 0.9997\n",
        "    # AUCPR:  0.9999\n",
        "\n",
        "else:\n",
        "    model1 = load_model('model1_cnn_ptbdb.h5')\n",
        "    model11 = load_model('model11_cnn_ptbdb.h5')\n",
        "    model17 = load_model('model17_cnn_ptbdb.h5')\n",
        "\n",
        "    print(\"Model 1\")\n",
        "    pred_test = model1.predict(X_test_ptbdb)\n",
        "    pred_test = (pred_test>0.5).astype(np.int8)\n",
        "\n",
        "    f1 = f1_score(Y_test_ptbdb, pred_test)\n",
        "    \n",
        "    print(\"Test f1 score : %s \"% f1)\n",
        "\n",
        "    acc = accuracy_score(Y_test_ptbdb, pred_test)\n",
        "\n",
        "    print(\"Test accuracy score : %s \\n\"% acc)\n",
        "\n",
        "    print(\"Model 11\")\n",
        "    pred_test11_ptbdb = model11.predict(X_test_ptbdb)\n",
        "    pred_test11_ptbdb = (pred_test11_ptbdb>0.5).astype(np.int8)\n",
        "\n",
        "    f1 = f1_score(Y_test_ptbdb, pred_test11_ptbdb)\n",
        "\n",
        "    print(\"Test f1 score : %s \"% f1)\n",
        "\n",
        "    acc = accuracy_score(Y_test_ptbdb, pred_test11_ptbdb)\n",
        "\n",
        "    print(\"Test accuracy score : %s \\n\"% acc)\n",
        "\n",
        "    print(\"Model 17\")\n",
        "    pred_test17 = model17.predict(X_test_ptbdb)\n",
        "    pred_test17 = (pred_test17>0.5).astype(np.int8)\n",
        "\n",
        "    f1 = f1_score(Y_test_ptbdb, pred_test17)\n",
        "\n",
        "    print(\"Test f1 score : %s \"% f1)\n",
        "\n",
        "    acc = accuracy_score(Y_test_ptbdb, pred_test17)\n",
        "\n",
        "    print(\"Test accuracy score : %s \\n\"% acc)"
      ]
    },
    {
      "cell_type": "markdown",
      "metadata": {
        "id": "ikzIHjEVL0bK"
      },
      "source": [
        "### MITBIH"
      ]
    },
    {
      "cell_type": "code",
      "execution_count": null,
      "metadata": {
        "id": "26ngOy2ZkDQF"
      },
      "outputs": [],
      "source": [
        "# Vanilla CNN mitbh\n",
        "\n",
        "def get_model6():\n",
        "    nclass = 5\n",
        "    inp = Input(shape=(187, 1))\n",
        "    img_1 = Convolution1D(16, kernel_size=5, activation=activations.relu, padding=\"valid\")(inp)\n",
        "    img_1 = Convolution1D(16, kernel_size=5, activation=activations.relu, padding=\"valid\")(img_1)\n",
        "    img_1 = MaxPool1D(pool_size=2)(img_1)\n",
        "    img_1 = Dropout(rate=0.1)(img_1)\n",
        "    img_1 = Convolution1D(32, kernel_size=3, activation=activations.relu, padding=\"valid\")(img_1)\n",
        "    img_1 = Convolution1D(32, kernel_size=3, activation=activations.relu, padding=\"valid\")(img_1)\n",
        "    img_1 = MaxPool1D(pool_size=2)(img_1)\n",
        "    img_1 = Dropout(rate=0.1)(img_1)\n",
        "    img_1 = Convolution1D(32, kernel_size=3, activation=activations.relu, padding=\"valid\")(img_1)\n",
        "    img_1 = Convolution1D(32, kernel_size=3, activation=activations.relu, padding=\"valid\")(img_1)\n",
        "    img_1 = MaxPool1D(pool_size=2)(img_1)\n",
        "    img_1 = Dropout(rate=0.1)(img_1)\n",
        "    img_1 = Convolution1D(64, kernel_size=3, activation=activations.relu, padding=\"valid\")(img_1)\n",
        "    img_1 = Convolution1D(64, kernel_size=3, activation=activations.relu, padding=\"valid\")(img_1)\n",
        "    img_1 = MaxPool1D(pool_size=2)(img_1)\n",
        "    img_1 = Dropout(rate=0.1)(img_1)\n",
        "    img_1 = Convolution1D(256, kernel_size=3, activation=activations.relu, padding=\"valid\")(img_1)\n",
        "    img_1 = Convolution1D(256, kernel_size=3, activation=activations.relu, padding=\"valid\")(img_1)\n",
        "    img_1 = GlobalMaxPool1D()(img_1)\n",
        "    img_1 = Dropout(rate=0.2)(img_1)\n",
        "\n",
        "    dense_1 = Dense(64, activation=activations.relu, name=\"dense_1\")(img_1)\n",
        "    dense_1 = Dense(64, activation=activations.relu, name=\"dense_2\")(dense_1)\n",
        "    dense_1 = Dense(nclass, activation=activations.sigmoid, name=\"dense_3_ptbdb\")(dense_1)\n",
        "\n",
        "    model = models.Model(inputs=inp, outputs=dense_1)\n",
        "    opt = optimizers.Adam(0.001)\n",
        "\n",
        "    model.compile(optimizer=opt, loss=losses.sparse_categorical_crossentropy, metrics=['acc'])\n",
        "    model.summary()\n",
        "    return model\n",
        "\n",
        "def get_model11():\n",
        "    nclass = 5\n",
        "    inp = Input(shape=(187, 1))\n",
        "    img_1 = Convolution1D(16, kernel_size=5, activation=activations.relu, padding=\"valid\")(inp)\n",
        "    img_1 = Convolution1D(16, kernel_size=5, activation=activations.relu, padding=\"valid\")(img_1)\n",
        "    img_1 = MaxPool1D(pool_size=4)(img_1)\n",
        "    img_1 = Dropout(rate=0.1)(img_1)\n",
        "    img_1 = Convolution1D(32, kernel_size=3, activation=activations.relu, padding=\"valid\")(img_1)\n",
        "    img_1 = Convolution1D(32, kernel_size=3, activation=activations.relu, padding=\"valid\")(img_1)\n",
        "    img_1 = MaxPool1D(pool_size=4)(img_1)\n",
        "    img_1 = Dropout(rate=0.1)(img_1)\n",
        "    img_1 = Convolution1D(256, kernel_size=3, activation=activations.relu, padding=\"valid\")(img_1)\n",
        "    img_1 = Convolution1D(256, kernel_size=3, activation=activations.relu, padding=\"valid\")(img_1)\n",
        "    img_1 = GlobalMaxPool1D()(img_1)\n",
        "    img_1 = Dropout(rate=0.2)(img_1)\n",
        "\n",
        "    dense_1 = Dense(64, activation=activations.relu, name=\"dense_1\")(img_1)\n",
        "    dense_1 = Dense(64, activation=activations.relu, name=\"dense_2\")(dense_1)\n",
        "    dense_1 = Dense(nclass, activation=activations.sigmoid, name=\"dense_3_ptbdb\")(dense_1)\n",
        "\n",
        "    model = models.Model(inputs=inp, outputs=dense_1)\n",
        "    opt = optimizers.Adam(0.001)\n",
        "\n",
        "    model.compile(optimizer=opt, loss=losses.sparse_categorical_crossentropy, metrics=['acc'])\n",
        "    model.summary()\n",
        "    return model\n",
        "\n",
        "def get_model19():\n",
        "    nclass = 5\n",
        "    inp = Input(shape=(187, 1))\n",
        "    img_1 = Convolution1D(16, kernel_size=5, padding=\"valid\")(inp)\n",
        "    img_1 = Convolution1D(16, kernel_size=5, padding=\"valid\")(img_1)\n",
        "    img_1 = LayerNormalization()(img_1)\n",
        "    img_1 = Activation('relu')(img_1)\n",
        "    img_1 = MaxPool1D(pool_size=2)(img_1)\n",
        "    img_1 = Dropout(rate=0.1)(img_1)\n",
        "    img_1 = Convolution1D(32, kernel_size=3, padding=\"valid\")(img_1)\n",
        "    img_1 = Convolution1D(32, kernel_size=3, padding=\"valid\")(img_1)\n",
        "    img_1 = LayerNormalization()(img_1)\n",
        "    img_1 = Activation('relu')(img_1)\n",
        "    img_1 = MaxPool1D(pool_size=2)(img_1)\n",
        "    img_1 = Dropout(rate=0.1)(img_1)\n",
        "    img_1 = Convolution1D(32, kernel_size=3, padding=\"valid\")(img_1)\n",
        "    img_1 = Convolution1D(32, kernel_size=3, padding=\"valid\")(img_1)\n",
        "    img_1 = LayerNormalization()(img_1)\n",
        "    img_1 = Activation('relu')(img_1)\n",
        "    img_1 = MaxPool1D(pool_size=2)(img_1)\n",
        "    img_1 = Dropout(rate=0.1)(img_1)\n",
        "    img_1 = Convolution1D(256, kernel_size=3, padding=\"valid\")(img_1)\n",
        "    img_1 = Convolution1D(256, kernel_size=3, padding=\"valid\")(img_1)\n",
        "    img_1 = LayerNormalization()(img_1)\n",
        "    img_1 = Activation('relu')(img_1)\n",
        "    img_1 = GlobalMaxPool1D()(img_1)\n",
        "    img_1 = Dropout(rate=0.2)(img_1)\n",
        "\n",
        "    dense_1 = Dense(64, activation=activations.relu, name=\"dense_1\")(img_1)\n",
        "    dense_1 = Dense(64, activation=activations.relu, name=\"dense_2\")(dense_1)\n",
        "    dense_1 = Dense(nclass, activation=activations.sigmoid, name=\"dense_3_ptbdb\")(dense_1)\n",
        "\n",
        "    model = models.Model(inputs=inp, outputs=dense_1)\n",
        "    opt = optimizers.Adam(0.001)\n",
        "\n",
        "    model.compile(optimizer=opt, loss=losses.sparse_categorical_crossentropy, metrics=['acc'])\n",
        "    model.summary()\n",
        "    return model"
      ]
    },
    {
      "cell_type": "code",
      "execution_count": null,
      "metadata": {
        "id": "ze4CaOtOL0bL",
        "outputId": "ae53d255-bf86-4e3b-da52-39a3cb857d87"
      },
      "outputs": [
        {
          "name": "stdout",
          "output_type": "stream",
          "text": [
            "Model 6\n",
            "Test f1 score : 0.9108221228595529 \n",
            "Test accuracy score : 0.9845605700712589 \n",
            "\n",
            "Model 11\n",
            "Test f1 score : 0.9167978297644928 \n",
            "Test accuracy score : 0.9854284670199159 \n",
            "\n",
            "Model 19\n",
            "Test f1 score : 0.9147427671850983 \n",
            "Test accuracy score : 0.9856111821670016 \n",
            "\n"
          ]
        }
      ],
      "source": [
        "fitCNN = True #in all the code put True if you want to fit the model from 0 or False if you want to load the pre-trained h5 files\n",
        "\n",
        "if fitCNN:\n",
        "\n",
        "    #model 6\n",
        "    model6 = get_model6()\n",
        "    file_path = \"model6_cnn_mitbih.h5\"\n",
        "    checkpoint = ModelCheckpoint(file_path, monitor='val_acc', verbose=1, save_best_only=True, mode='max')\n",
        "    early = EarlyStopping(monitor=\"val_acc\", mode=\"max\", patience=5, verbose=1)\n",
        "    redonplat = ReduceLROnPlateau(monitor=\"val_acc\", mode=\"max\", patience=3, verbose=2)\n",
        "    callbacks_list = [checkpoint, early, redonplat]  # early\n",
        "\n",
        "    history6 = model6.fit(X, Y, epochs=1000, verbose=2, callbacks=callbacks_list, validation_split=0.1)\n",
        "    model6.load_weights(file_path)\n",
        "\n",
        "    pred_test = model6.predict(X_test)\n",
        "    pred_test = np.argmax(pred_test, axis=-1)\n",
        "\n",
        "    f1 = f1_score(Y_test, pred_test, average=\"macro\")\n",
        "\n",
        "    print(\"Test f1 score : %s \"% f1)\n",
        "\n",
        "    acc = accuracy_score(Y_test, pred_test)\n",
        "\n",
        "    print(\"Test accuracy score : %s \"% acc)\n",
        "\n",
        "    # Test f1 score : 0.9108221228595529 \n",
        "    # Test accuracy score : 0.9845605700712589 \n",
        "\n",
        "    #model 11\n",
        "    model11 = get_model11()\n",
        "    file_path = \"model11_cnn_mitbih.h5\"\n",
        "    checkpoint = ModelCheckpoint(file_path, monitor='val_acc', verbose=1, save_best_only=True, mode='max')\n",
        "    early = EarlyStopping(monitor=\"val_acc\", mode=\"max\", patience=5, verbose=1)\n",
        "    redonplat = ReduceLROnPlateau(monitor=\"val_acc\", mode=\"max\", patience=3, verbose=2)\n",
        "    callbacks_list = [checkpoint, early, redonplat]  # early\n",
        "\n",
        "    history11 = model11.fit(X, Y, epochs=1000, verbose=2, callbacks=callbacks_list, validation_split=0.1)\n",
        "    model11.load_weights(file_path)\n",
        "\n",
        "    pred_test11 = model11.predict(X_test)\n",
        "    pred_test11 = np.argmax(pred_test11, axis=-1)\n",
        "\n",
        "    f1 = f1_score(Y_test, pred_test11, average=\"macro\")\n",
        "\n",
        "    print(\"Test f1 score : %s \"% f1)\n",
        "\n",
        "    acc = accuracy_score(Y_test, pred_test11)\n",
        "\n",
        "    print(\"Test accuracy score : %s \"% acc)\n",
        "\n",
        "    # Test f1 score : 0.9167978297644928 \n",
        "    # Test accuracy score : 0.9854284670199159 \n",
        "\n",
        "\n",
        "    #model 19\n",
        "    model19 = get_model19()\n",
        "    file_path = \"model19_cnn_mitbih.h5\"\n",
        "    checkpoint = ModelCheckpoint(file_path, monitor='val_acc', verbose=1, save_best_only=True, mode='max')\n",
        "    early = EarlyStopping(monitor=\"val_acc\", mode=\"max\", patience=5, verbose=1)\n",
        "    redonplat = ReduceLROnPlateau(monitor=\"val_acc\", mode=\"max\", patience=3, verbose=2)\n",
        "    callbacks_list = [checkpoint, early, redonplat]  # early\n",
        "\n",
        "    history19 = model19.fit(X, Y, epochs=1000, verbose=2, callbacks=callbacks_list, validation_split=0.1)\n",
        "    model19.load_weights(file_path)\n",
        "\n",
        "    pred_test19 = model19.predict(X_test)\n",
        "    pred_test19 = np.argmax(pred_test19, axis=-1)\n",
        "\n",
        "    f1 = f1_score(Y_test, pred_test19, average=\"macro\")\n",
        "\n",
        "    print(\"Test f1 score : %s \"% f1)\n",
        "\n",
        "    acc = accuracy_score(Y_test, pred_test19)\n",
        "\n",
        "    print(\"Test accuracy score : %s \"% acc)\n",
        "\n",
        "    # Test f1 score : 0.9147427671850983 \n",
        "    # Test accuracy score : 0.9856111821670016\n",
        "else:\n",
        "    model6 = load_model('model6_cnn_mitbih.h5')\n",
        "    model11 = load_model('model11_cnn_mitbih.h5')\n",
        "    model19 = load_model('model19_cnn_mitbih.h5')\n",
        "\n",
        "    print(\"Model 6\")\n",
        "    pred_test = model6.predict(X_test)\n",
        "    pred_test = np.argmax(pred_test, axis=-1)\n",
        "\n",
        "    f1 = f1_score(Y_test, pred_test,average='macro')\n",
        "    \n",
        "    print(\"Test f1 score : %s \"% f1)\n",
        "\n",
        "    acc = accuracy_score(Y_test, pred_test)\n",
        "\n",
        "    print(\"Test accuracy score : %s \\n\"% acc)\n",
        "\n",
        "    print(\"Model 11\")\n",
        "    pred_test11 = model11.predict(X_test)\n",
        "    pred_test11 = np.argmax(pred_test11, axis=-1)\n",
        "\n",
        "    f1 = f1_score(Y_test, pred_test11,average='macro')\n",
        "\n",
        "    print(\"Test f1 score : %s \"% f1)\n",
        "\n",
        "    acc = accuracy_score(Y_test, pred_test11)\n",
        "\n",
        "    print(\"Test accuracy score : %s \\n\"% acc)\n",
        "\n",
        "    print(\"Model 19\")\n",
        "    pred_test19 = model19.predict(X_test)\n",
        "    pred_test19 = np.argmax(pred_test19, axis=-1)\n",
        "\n",
        "    f1 = f1_score(Y_test, pred_test19,average='macro')\n",
        "\n",
        "    print(\"Test f1 score : %s \"% f1)\n",
        "\n",
        "    acc = accuracy_score(Y_test, pred_test19)\n",
        "\n",
        "    print(\"Test accuracy score : %s \\n\"% acc)"
      ]
    },
    {
      "cell_type": "markdown",
      "metadata": {
        "id": "xB7nAKlRL0bL"
      },
      "source": [
        "## Vanilla RNN"
      ]
    },
    {
      "cell_type": "code",
      "execution_count": null,
      "metadata": {
        "id": "tIEbDJ5PL0bL"
      },
      "outputs": [],
      "source": [
        "#Definition of core function, it trains and evaluates a model with the given parameters and saves an .h5 file\n",
        "\n",
        "#layertype: function object, RNN layer type (SimpleRNN, GRU, LSTM)\n",
        "#number_of_classes: integer, 2 for ptbdb 5 for mitbih\n",
        "#return_seq: boolean, determines whether we return only the last output or the entire sequence\n",
        "#num_of_rnn_layers: integer, number of stacked rnn layers\n",
        "#decrease: boolean, determines whether to halve the given num_of_out_units argument for each layer we get deeper in the model\n",
        "#num_of_epochs: integer, number of epochs\n",
        "#filename: string, optional, determines the filename, otherwise it is generated from the given parameters\n",
        "\n",
        "\n",
        "def task1_rnn_function(layertype, num_of_classes, return_seq, num_of_rnn_layers, num_of_out_units, decrease, num_of_epochs, file_name=None):\n",
        "  with strategy.scope():\n",
        "    inp = Input(shape=(None,1))\n",
        "    img_1 = layertype(num_of_out_units, dropout=0.1, recurrent_dropout=0.1, return_sequences = return_seq)(inp)\n",
        "    print(img_1.shape)\n",
        "\n",
        "    temp = num_of_out_units\n",
        "    for i in range(num_of_rnn_layers-1):\n",
        "      if decrease:\n",
        "        temp = temp//2\n",
        "      img_1 = layertype(temp, dropout=0.1, recurrent_dropout=0.1, return_sequences = return_seq)(img_1)\n",
        "      print(img_1.shape)\n",
        "\n",
        "    if return_seq:\n",
        "      img_1 = GlobalMaxPool1D()(img_1)\n",
        "      img_1 = Dropout(rate=0.2)(img_1)\n",
        "\n",
        "    dense_1 = Dense(64, activation=activations.relu, name=\"dense_1_ptbdb\")(img_1)\n",
        "    if num_of_classes==2:\n",
        "      dense_1 = Dense(1, activation=activations.sigmoid, name=\"dense_final_ptbdb\")(dense_1)\n",
        "    else:\n",
        "      dense_1 = Dense(num_of_classes, activation=activations.softmax, name=\"dense_final_mitbih\")(dense_1)\n",
        "\n",
        "    model = models.Model(inputs=inp, outputs=dense_1)\n",
        "    opt = tf.keras.optimizers.Adam(0.001) #using Adam as it is the usual choice\n",
        "    \n",
        "    if num_of_classes==2:\n",
        "      model.compile(optimizer=opt, loss=losses.binary_crossentropy, metrics=['acc',tf.keras.metrics.AUC(curve=\"ROC\",name=\"ROC\"),tf.keras.metrics.AUC(curve=\"PR\",name=\"PR\")])\n",
        "    else:\n",
        "      model.compile(optimizer=opt, loss=losses.sparse_categorical_crossentropy, metrics=['acc'])\n",
        "\n",
        "    model.summary()\n",
        "\n",
        "    file_path=\"\"\n",
        "    if file_name is not None:\n",
        "      file_path = file_name\n",
        "    else:\n",
        "      s1,s2,s3,s4,s5,s6 = layertype.__name__,(\"ptbdb\" if num_of_classes==2 else \"mitbih\"), (\"seq\" if return_seq else \"noseq\"), str(num_of_rnn_layers), str(num_of_out_units), (\"decreasing\" if decrease else \"nondecreasing\")\n",
        "      file_path = f\"{s1}_{s2}_{s3}_{s4}_{s5}_{s6}.h5\"\n",
        "\n",
        "    checkpoint = ModelCheckpoint(file_path, monitor='val_acc', verbose=1, save_best_only=True, mode='max')\n",
        "    early = EarlyStopping(monitor=\"val_acc\", mode=\"max\", patience=55, verbose=1)\n",
        "    redonplat = ReduceLROnPlateau(monitor=\"val_acc\", mode=\"max\", patience=40, verbose=2)\n",
        "    callbacks_list = [checkpoint, early, redonplat] #early\n",
        "\n",
        "\n",
        "    if num_of_classes ==2:\n",
        "      model.fit(X_ptbdb, Y_ptbdb, epochs=num_of_epochs, verbose=2, callbacks=callbacks_list, validation_split=0.1)\n",
        "      model.load_weights(file_path)\n",
        "\n",
        "      pred_test = model.predict(X_test_ptbdb)\n",
        "      pred_test = (pred_test>0.5).astype(np.int8)\n",
        "\n",
        "      f1 = f1_score(Y_test_ptbdb, pred_test)\n",
        "\n",
        "      print(\"Test f1 score : %s \"% f1)\n",
        "\n",
        "      acc = accuracy_score(Y_test_ptbdb, pred_test)\n",
        "\n",
        "      print(\"Test accuracy score : %s \"% acc)\n",
        "    else:\n",
        "      model.fit(X, Y, epochs=100, verbose=2, callbacks=callbacks_list, validation_split=0.1)\n",
        "      model.load_weights(file_path)\n",
        "\n",
        "      pred_test = model.predict(X_test)\n",
        "      pred_test = np.argmax(pred_test, axis=-1)\n",
        "\n",
        "      f1 = f1_score(Y_test, pred_test, average=\"macro\")\n",
        "\n",
        "      print(\"Test f1 score : %s \"% f1)\n",
        "\n",
        "      acc = accuracy_score(Y_test, pred_test)\n",
        "\n",
        "      print(\"Test accuracy score : %s \"% acc)"
      ]
    },
    {
      "cell_type": "markdown",
      "metadata": {
        "id": "gRoTC6tML0bM"
      },
      "source": [
        "### Training with different parameters for both datasets"
      ]
    },
    {
      "cell_type": "code",
      "source": [
        "#base\n",
        "task1_rnn_function(layertype=LSTM, num_of_classes=2, return_seq=True, num_of_rnn_layers=1, num_of_out_units=128, num_of_epochs=100, decrease=False)"
      ],
      "metadata": {
        "id": "YoDa5mSsM-jb"
      },
      "execution_count": null,
      "outputs": []
    },
    {
      "cell_type": "code",
      "source": [
        "#base + (sequences = false)\n",
        "task1_rnn_function(layertype=LSTM, num_of_classes=2, return_seq=False, num_of_rnn_layers=1, num_of_out_units=128, num_of_epochs=100, decrease=False)"
      ],
      "metadata": {
        "id": "3lMKPCYbNGME"
      },
      "execution_count": null,
      "outputs": []
    },
    {
      "cell_type": "code",
      "source": [
        "#base + (output units = 32)\n",
        "task1_rnn_function(layertype=LSTM, num_of_classes=2, return_seq=True, num_of_rnn_layers=1, num_of_out_units=32, num_of_epochs=100, decrease = True)\n"
      ],
      "metadata": {
        "id": "SfdFbYAcNKKc"
      },
      "execution_count": null,
      "outputs": []
    },
    {
      "cell_type": "code",
      "source": [
        "#base + (output units = 256)\n",
        "task1_rnn_function(layertype=LSTM, num_of_classes=2, return_seq=True, num_of_rnn_layers=1, num_of_out_units=256, num_of_epochs=100, decrease = True)\n"
      ],
      "metadata": {
        "id": "-W7H2XktNNPy"
      },
      "execution_count": null,
      "outputs": []
    },
    {
      "cell_type": "code",
      "source": [
        "#base + (layers = 2)\n",
        "task1_rnn_function(layertype=LSTM, num_of_classes=2, return_seq=True, num_of_rnn_layers=2, num_of_out_units=128, num_of_epochs=100, decrease = False)"
      ],
      "metadata": {
        "id": "EI42E2nQNPuN"
      },
      "execution_count": null,
      "outputs": []
    },
    {
      "cell_type": "code",
      "source": [
        "#base + (type = SimpleRNN)\n",
        "task1_rnn_function(layertype=SimpleRNN, num_of_classes=2, return_seq=True, num_of_rnn_layers=1, num_of_out_units=128, num_of_epochs=100, decrease = True)"
      ],
      "metadata": {
        "id": "uA86M9EHNT3E"
      },
      "execution_count": null,
      "outputs": []
    },
    {
      "cell_type": "code",
      "source": [
        "#base + (type = GRU)\n",
        "task1_rnn_function(layertype=GRU, num_of_classes=2, return_seq=True, num_of_rnn_layers=1, num_of_out_units=128, num_of_epochs=100, decrease = True)"
      ],
      "metadata": {
        "id": "ndhSSoZiNWel"
      },
      "execution_count": null,
      "outputs": []
    },
    {
      "cell_type": "code",
      "source": [
        "#best ptbdb (epochs = 250, with best settings found overall)\n",
        "task1_rnn_function(layertype=GRU, num_of_classes=2, return_seq=True, num_of_rnn_layers=2, num_of_out_units=256, num_of_epochs=250, decrease = True, file_name=\"gru_ptbdb.h5\")"
      ],
      "metadata": {
        "id": "yvUxJwumNZYt"
      },
      "execution_count": null,
      "outputs": []
    },
    {
      "cell_type": "code",
      "source": [
        "#best mitbih (epochs = 250, with best settings found overall)\n",
        "task1_rnn_function(layertype=GRU, num_of_classes=5, return_seq=True, num_of_rnn_layers=2, num_of_out_units=256, num_of_epochs=250, decrease = True, file_name=\"gru_mitbih.h5\")"
      ],
      "metadata": {
        "id": "mTsgAbslNcS-"
      },
      "execution_count": null,
      "outputs": []
    },
    {
      "cell_type": "code",
      "execution_count": null,
      "metadata": {
        "id": "IyAf-4UCL0bM",
        "outputId": "9399553f-5dfd-4de9-eaca-25b6561930f5"
      },
      "outputs": [
        {
          "name": "stdout",
          "output_type": "stream",
          "text": [
            "best gru model ptbdb\n",
            "Test f1 score : 0.9969069712110397 \n",
            "Test accuracy score : 0.9955341806939196 \n",
            "\n",
            "best gru model mitbih\n",
            "Test f1 score : 0.9336693993471945 \n",
            "Test accuracy score : 0.9887173396674585 \n",
            "\n"
          ]
        }
      ],
      "source": [
        "#Run this code to print the metric values for the best mitbih and ptbdb models\n",
        "\n",
        "print(\"best gru model ptbdb\")\n",
        "modelGRU = load_model(\"gru_ptbdb.h5\")\n",
        "pred_test_gru_ptbdb = modelGRU.predict(X_test_ptbdb)\n",
        "pred_test_gru_ptbdb = (pred_test_gru_ptbdb>0.5).astype(np.int8)\n",
        "f1 = f1_score(Y_test_ptbdb, pred_test_gru_ptbdb)\n",
        "print(\"Test f1 score : %s \"% f1)\n",
        "acc = accuracy_score(Y_test_ptbdb, pred_test_gru_ptbdb)\n",
        "print(\"Test accuracy score : %s \\n\"% acc)\n",
        "\n",
        "\n",
        "print(\"best gru model mitbih\")\n",
        "modelGRU_mitbih = load_model(\"gru_mitbih.h5\")\n",
        "pred_test_gru_mitbih = modelGRU_mitbih.predict(X_test)\n",
        "pred_test_gru_mitbih = np.argmax(pred_test_gru_mitbih, axis=-1)\n",
        "f1 = f1_score(Y_test, pred_test_gru_mitbih,average=\"macro\")\n",
        "print(\"Test f1 score : %s \"% f1)\n",
        "acc = accuracy_score(Y_test, pred_test_gru_mitbih)\n",
        "print(\"Test accuracy score : %s \\n\"% acc)"
      ]
    },
    {
      "cell_type": "markdown",
      "metadata": {
        "id": "VUI12HsEL0bM"
      },
      "source": [
        "### Ablation model"
      ]
    },
    {
      "cell_type": "code",
      "execution_count": null,
      "metadata": {
        "id": "lK0GebXrL0bM"
      },
      "outputs": [],
      "source": [
        "#ablation model\n",
        "def get_ablation_model():\n",
        "    nclass = 1\n",
        "    inp = Input(shape=(187))\n",
        "\n",
        "    dense_1 = Dense(64, activation=activations.relu, name=\"dense_2\")(inp)\n",
        "    dense_1 = Dense(nclass, activation=activations.sigmoid, name=\"dense_3_ptbdb\")(dense_1)\n",
        "\n",
        "    model = models.Model(inputs=inp, outputs=dense_1)\n",
        "    opt = tf.keras.optimizers.Adam(0.001)\n",
        "\n",
        "    model.compile(optimizer=opt, loss=losses.binary_crossentropy, metrics=['acc',tf.keras.metrics.AUC(curve=\"ROC\",name=\"ROC\"),tf.keras.metrics.AUC(curve=\"PR\",name=\"PR\")])\n",
        "    model.summary()\n",
        "    return model\n",
        "\n",
        "\n",
        "model_ablation = get_ablation_model()\n",
        "\n",
        "file_path = \"ablation_ptbdb.h5\"\n",
        "checkpoint = ModelCheckpoint(file_path, monitor='val_acc', verbose=1, save_best_only=True, mode='max')\n",
        "early = EarlyStopping(monitor=\"val_acc\", mode=\"max\", patience=55, verbose=1)\n",
        "redonplat = ReduceLROnPlateau(monitor=\"val_acc\", mode=\"max\", patience=40, verbose=2)\n",
        "callbacks_list = [checkpoint, early, redonplat] #early\n",
        "\n",
        "model_ablation.fit(X_ptbdb, Y_ptbdb, epochs=250, verbose=2, callbacks=callbacks_list, validation_split=0.1)\n",
        "model_ablation.load_weights(file_path)\n",
        "\n",
        "\n",
        "pred_test = model_ablation.predict(X_test_ptbdb)\n",
        "pred_test = (pred_test>0.5).astype(np.int8)\n",
        "\n",
        "f1 = f1_score(Y_test_ptbdb, pred_test)\n",
        "\n",
        "print(\"Test f1 score : %s \"% f1)\n",
        "\n",
        "acc = accuracy_score(Y_test_ptbdb, pred_test)\n",
        "\n",
        "print(\"Test accuracy score : %s \"% acc)"
      ]
    },
    {
      "cell_type": "markdown",
      "metadata": {
        "id": "2tZg5dFwL0bM"
      },
      "source": [
        "# Task 2 : Additional models"
      ]
    },
    {
      "cell_type": "markdown",
      "metadata": {
        "id": "BZHKo6mIL0bM"
      },
      "source": [
        "## Parallel CNN with data transformation [See the other ipynb file Xenia Augustin uploaded]"
      ]
    },
    {
      "cell_type": "markdown",
      "metadata": {
        "id": "luUGDplQL0bM"
      },
      "source": [
        "## CNN with residual blocks"
      ]
    },
    {
      "cell_type": "code",
      "execution_count": null,
      "metadata": {
        "id": "r7ZdBTh6L0bM"
      },
      "outputs": [],
      "source": [
        "# Residual blocks CNN\n",
        "def identity_block(x,filter):\n",
        "    x_skip = x\n",
        "    # Layer 1\n",
        "    x = tf.keras.layers.Conv1D(filter[0], kernel_size=5, padding = 'same')(x)\n",
        "    x = tf.keras.layers.Conv1D(filter[0], kernel_size=5, padding = 'same')(x)\n",
        "    x = tf.keras.layers.Activation('relu')(x)\n",
        "    # Layer 2\n",
        "    x = tf.keras.layers.Conv1D(filter[1], kernel_size=3, padding = 'same')(x)\n",
        "    x = tf.keras.layers.Conv1D(filter[1], kernel_size=3, padding = 'same')(x)\n",
        "    x = tf.keras.layers.Activation('relu')(x)\n",
        "    # Add Residue\n",
        "    x = tf.keras.layers.Add()([x, x_skip])     \n",
        "    x = tf.keras.layers.Activation('relu')(x)\n",
        "    return x\n",
        "\n",
        "def convolutional_block(x, filter):\n",
        "    # copy tensor to variable called x_skip\n",
        "    x_skip = x\n",
        "    # Layer 1\n",
        "    x = tf.keras.layers.Conv1D(filter[0], kernel_size=3, padding = 'same')(x)\n",
        "    x = tf.keras.layers.Conv1D(filter[0], kernel_size=3, padding = 'same')(x)\n",
        "    x = tf.keras.layers.Activation('relu')(x)\n",
        "    # Layer 2\n",
        "    x = tf.keras.layers.Conv1D(filter[1], kernel_size=3, padding = 'same')(x)\n",
        "    x = tf.keras.layers.Conv1D(filter[1], kernel_size=3, padding = 'same')(x)\n",
        "    # Processing Residue with conv(1,1)\n",
        "    x_skip = tf.keras.layers.Conv1D(filter[1], kernel_size=3, padding = 'same')(x_skip)\n",
        "    # Add Residue\n",
        "    x = tf.keras.layers.Add()([x, x_skip])     \n",
        "    x = tf.keras.layers.Activation('relu')(x)\n",
        "    return x"
      ]
    },
    {
      "cell_type": "markdown",
      "metadata": {
        "id": "7CYxPBd3L0bN"
      },
      "source": [
        "### PTBDB"
      ]
    },
    {
      "cell_type": "code",
      "execution_count": null,
      "metadata": {
        "id": "_hbiN9fqL0bN"
      },
      "outputs": [],
      "source": [
        "# CNN with residual blocks ptbdb\n",
        "def get_model1():\n",
        "    nclass = 1\n",
        "    inp = Input(shape=(187, 1))\n",
        "    img_1 = tf.keras.layers.Convolution1D(16, kernel_size=5, activation=activations.relu, padding=\"same\")(inp)\n",
        "    img_1 = tf.keras.layers.Convolution1D(16, kernel_size=5, activation=activations.relu, padding=\"same\")(img_1)\n",
        "    img_1 = tf.keras.layers.MaxPool1D(pool_size=2)(img_1)\n",
        "    img_1 = tf.keras.layers.Dropout(rate=0.1)(img_1)\n",
        "    \n",
        "    img_shortcut = convolutional_block(img_1,[32,32])\n",
        "    img_shortcut = identity_block(img_shortcut,[32,32])\n",
        "    \n",
        "    img_1 = tf.keras.layers.Conv1D(256, kernel_size=3, padding = 'same')(img_shortcut)\n",
        "    img_1 = tf.keras.layers.Conv1D(256, kernel_size=3, padding = 'same')(img_1)\n",
        "    img_1 = tf.keras.layers.Activation('relu')(img_1)\n",
        "    img_1 = Flatten()(img_1)\n",
        "    \n",
        "    dense_1 = tf.keras.layers.Dense(64, activation=activations.relu, name=\"dense_1\")(img_1)\n",
        "    dense_1 = tf.keras.layers.Dense(64, activation=activations.relu, name=\"dense_2\")(dense_1)\n",
        "    dense_1 = tf.keras.layers.Dense(nclass, activation=activations.softmax, name=\"dense_3_mitbih\")(dense_1)\n",
        "\n",
        "    model = models.Model(inputs=inp, outputs=dense_1)\n",
        "    opt = tf.keras.optimizers.Adam(0.001)\n",
        "\n",
        "    model.compile(optimizer=opt, loss=losses.binary_crossentropy, metrics=[AUCROC, AUCPR, 'acc'])\n",
        "    model.summary()\n",
        "    return model"
      ]
    },
    {
      "cell_type": "code",
      "execution_count": null,
      "metadata": {
        "id": "mJHRTyL8L0bN",
        "outputId": "4642232f-8574-4751-bc1d-d722bc38605e"
      },
      "outputs": [
        {
          "name": "stdout",
          "output_type": "stream",
          "text": [
            "Model 1\n",
            "Test f1 score : 0.8386195890684222 \n",
            "Test accuracy score : 0.7220886293369976 \n",
            "\n"
          ]
        }
      ],
      "source": [
        "fitCNN = True\n",
        "\n",
        "if fitCNN:\n",
        "    model1 = get_model1()\n",
        "    file_path = \"Resnet_cnn_ptbdb1.h5\"\n",
        "    checkpoint = ModelCheckpoint(file_path, monitor='val_acc', verbose=1, save_best_only=True, mode='max')\n",
        "    early = EarlyStopping(monitor=\"val_acc\", mode=\"max\", patience=5, verbose=1)\n",
        "    redonplat = ReduceLROnPlateau(monitor=\"val_acc\", mode=\"max\", patience=3, verbose=2)\n",
        "    callbacks_list = [checkpoint, early, redonplat]  # early\n",
        "\n",
        "    model1.fit(X_ptbdb, Y_ptbdb, epochs=1000, verbose=2, callbacks=callbacks_list, validation_split=0.1)\n",
        "    model1.load_weights(file_path)\n",
        "    print(\"\\nModel 1\")\n",
        "    pred_test = model1.predict(X_test_ptbdb)\n",
        "    pred_test = (pred_test>0.5).astype(np.int8)\n",
        "\n",
        "    f1 = f1_score(Y_test_ptbdb, pred_test, average=\"macro\")\n",
        "\n",
        "    print(\"Test f1 score : %s \"% f1)\n",
        "\n",
        "    acc = accuracy_score(Y_test_ptbdb, pred_test)\n",
        "\n",
        "    print(\"Test accuracy score : %s \"% acc)\n",
        "\n",
        "    # Test f1 score : 0.8386195890684222\n",
        "    # Test accuracy score : 0.7220886293369976 \n",
        "\n",
        "else:\n",
        "    model1 = load_model('Resnet_cnn_ptbdb1.h5')\n",
        "\n",
        "    print(\"Model 1\")\n",
        "    pred_test = model1.predict(X_test_ptbdb)\n",
        "    pred_test = (pred_test>0.5).astype(np.int8)\n",
        "\n",
        "    f1 = f1_score(Y_test_ptbdb, pred_test)\n",
        "    \n",
        "    print(\"Test f1 score : %s \"% f1)\n",
        "\n",
        "    acc = accuracy_score(Y_test_ptbdb, pred_test)\n",
        "\n",
        "    print(\"Test accuracy score : %s \\n\"% acc)"
      ]
    },
    {
      "cell_type": "markdown",
      "metadata": {
        "id": "HN5h57ujL0bN"
      },
      "source": [
        "### MITBIH"
      ]
    },
    {
      "cell_type": "code",
      "execution_count": null,
      "metadata": {
        "id": "bqxj2pz6L0bN"
      },
      "outputs": [],
      "source": [
        "# CNN with residual blocks mitbh\n",
        "def get_model3():\n",
        "    nclass = 5\n",
        "    inp = Input(shape=(187, 1))\n",
        "    img_1 = tf.keras.layers.Convolution1D(16, kernel_size=5, activation=activations.relu, padding=\"same\")(inp)\n",
        "    img_1 = tf.keras.layers.Convolution1D(16, kernel_size=5, activation=activations.relu, padding=\"same\")(img_1)\n",
        "    img_1 = tf.keras.layers.MaxPool1D(pool_size=2)(img_1)\n",
        "    img_1 = tf.keras.layers.Dropout(rate=0.1)(img_1)\n",
        "    \n",
        "    img_1 = tf.keras.layers.Convolution1D(32, kernel_size=3, activation=activations.relu, padding=\"same\")(img_1)\n",
        "    img_1 = tf.keras.layers.Convolution1D(32, kernel_size=3, activation=activations.relu, padding=\"same\")(img_1)\n",
        "    img_1 = tf.keras.layers.MaxPool1D(pool_size=2)(img_1)\n",
        "    img_1 = tf.keras.layers.Dropout(rate=0.1)(img_1)\n",
        "    \n",
        "    img_shortcut = identity_block(img_1,[32,32])\n",
        "    \n",
        "    img_1 = tf.keras.layers.Conv1D(256, kernel_size=3, padding = 'same')(img_shortcut)\n",
        "    img_1 = tf.keras.layers.Conv1D(256, kernel_size=3, padding = 'same')(img_1)\n",
        "    img_1 = tf.keras.layers.Activation('relu')(img_1)\n",
        "    img_1 = GlobalMaxPool1D()(img_1)\n",
        "\n",
        "    dense_1 = tf.keras.layers.Dense(64, activation=activations.relu, name=\"dense_1\")(img_1)\n",
        "    dense_1 = tf.keras.layers.Dense(64, activation=activations.relu, name=\"dense_2\")(dense_1)\n",
        "    dense_1 = tf.keras.layers.Dense(nclass, activation=activations.softmax, name=\"dense_3_mitbih\")(dense_1)\n",
        "\n",
        "    model = models.Model(inputs=inp, outputs=dense_1)\n",
        "    opt = optimizers.Adam(0.001)\n",
        "\n",
        "    model.compile(optimizer=opt, loss=losses.sparse_categorical_crossentropy, metrics=['acc'])\n",
        "    model.summary()\n",
        "    return model\n"
      ]
    },
    {
      "cell_type": "code",
      "execution_count": null,
      "metadata": {
        "id": "-ldzyzuFL0bN",
        "outputId": "6f77fa63-15d6-490f-b734-45300478fa99"
      },
      "outputs": [
        {
          "name": "stdout",
          "output_type": "stream",
          "text": [
            "Model 3\n",
            "Test f1 score : 0.9171564726806969 \n",
            "Test accuracy score : 0.9854741458066874 \n",
            "\n"
          ]
        }
      ],
      "source": [
        "fitCNN = True\n",
        "\n",
        "if fitCNN :\n",
        "    model3 = get_model3()\n",
        "    file_path = \"Resnet_cnn_mitbih3.h5\"\n",
        "    checkpoint = ModelCheckpoint(file_path, monitor='val_acc', verbose=1, save_best_only=True, mode='max')\n",
        "    early = EarlyStopping(monitor=\"val_acc\", mode=\"max\", patience=5, verbose=1)\n",
        "    redonplat = ReduceLROnPlateau(monitor=\"val_acc\", mode=\"max\", patience=3, verbose=2)\n",
        "    callbacks_list = [checkpoint, early, redonplat]  # early\n",
        "\n",
        "    model3.fit(X, Y, epochs=1000, verbose=2, callbacks=callbacks_list, validation_split=0.1)\n",
        "    model3.load_weights(file_path)\n",
        "\n",
        "    pred_test3 = model3.predict(X_test)\n",
        "    pred_test3 = np.argmax(pred_test3, axis=-1)\n",
        "\n",
        "    f1 = f1_score(Y_test, pred_test3,average='macro')\n",
        "    \n",
        "    print(\"Test f1 score : %s \"% f1)\n",
        "\n",
        "    acc = accuracy_score(Y_test, pred_test3)\n",
        "\n",
        "    print(\"Test accuracy score : %s \\n\"% acc)\n",
        "\n",
        "    # Test f1 score : 0.9171564726806969 \n",
        "    # Test accuracy score : 0.9854741458066874\n",
        "else:\n",
        "    model3 = load_model('Resnet_cnn_mitbih3.h5')\n",
        "\n",
        "    print(\"Model 3\")\n",
        "    pred_test3 = model3.predict(X_test)\n",
        "    pred_test3 = np.argmax(pred_test3, axis=-1)\n",
        "\n",
        "    f1 = f1_score(Y_test, pred_test3,average='macro')\n",
        "    \n",
        "    print(\"Test f1 score : %s \"% f1)\n",
        "\n",
        "    acc = accuracy_score(Y_test, pred_test3)\n",
        "\n",
        "    print(\"Test accuracy score : %s \\n\"% acc)"
      ]
    },
    {
      "cell_type": "markdown",
      "metadata": {
        "id": "MSeefxk_L0bN"
      },
      "source": [
        "## LightGBM"
      ]
    },
    {
      "cell_type": "markdown",
      "metadata": {
        "id": "AGzO1-SML0bO"
      },
      "source": [
        "### PTBDB"
      ]
    },
    {
      "cell_type": "code",
      "execution_count": null,
      "metadata": {
        "id": "IJAHU6x_L0bO",
        "outputId": "17af6649-90ba-45a0-b457-7c23f56d1fa4"
      },
      "outputs": [
        {
          "name": "stdout",
          "output_type": "stream",
          "text": [
            "Test f1 score : 0.9912343046671404 \n",
            "Test accuracy score : 0.9872895912057712 \n"
          ]
        }
      ],
      "source": [
        "#Lightgbm ptbdb\n",
        "model_lgb_ptbdb = lgb.LGBMClassifier(n_estimators=1000)\n",
        "model_lgb_ptbdb.fit(np.squeeze(X_ptbdb), Y_ptbdb)\n",
        "\n",
        "pred_test_lgb_ptbdb = model_lgb_ptbdb.predict(np.squeeze(X_test_ptbdb))\n",
        "\n",
        "f1 = f1_score(Y_test_ptbdb, pred_test_lgb_ptbdb)\n",
        "\n",
        "print(\"Test f1 score : %s \"% f1)\n",
        "\n",
        "acc = accuracy_score(Y_test_ptbdb, pred_test_lgb_ptbdb)\n",
        "\n",
        "print(\"Test accuracy score : %s \"% acc)\n",
        "\n",
        "# estimators = 1000\n",
        "# Test f1 score : 0.9924098671726755 \n",
        "# Test accuracy score : 0.9890072140158022 "
      ]
    },
    {
      "cell_type": "markdown",
      "metadata": {
        "id": "s_AHHzoML0bO"
      },
      "source": [
        "### MITBIH"
      ]
    },
    {
      "cell_type": "code",
      "execution_count": null,
      "metadata": {
        "id": "Dm6y_y--ECci",
        "outputId": "5153d1da-032e-4d71-de30-c9f52acdffb9"
      },
      "outputs": [
        {
          "name": "stdout",
          "output_type": "stream",
          "text": [
            "Test f1 score : 0.9159619063481133 \n",
            "Test accuracy score : 0.9841037822035447 \n"
          ]
        }
      ],
      "source": [
        "#Lightgbm MITBIH\n",
        "model_lgb_mitbih = lgb.LGBMClassifier(n_estimators=1200)\n",
        "model_lgb_mitbih.fit(np.squeeze(X), Y)\n",
        "\n",
        "pred_test_lgb_mitbih = model_lgb_mitbih.predict(np.squeeze(X_test))\n",
        "\n",
        "f1 = f1_score(Y_test, pred_test_lgb_mitbih, average=\"macro\")\n",
        "\n",
        "print(\"Test f1 score : %s \"% f1)\n",
        "\n",
        "acc = accuracy_score(Y_test, pred_test_lgb_mitbih)\n",
        "\n",
        "print(\"Test accuracy score : %s \"% acc)\n",
        "\n",
        "# estimators=1200\n",
        "# Test f1 score : 0.9159619063481133\n",
        "# Test accuracy score : 0.9841037822035447"
      ]
    },
    {
      "cell_type": "markdown",
      "metadata": {
        "id": "_AsvoAQjL0bO"
      },
      "source": [
        "## Autoencoders and encoders"
      ]
    },
    {
      "cell_type": "markdown",
      "metadata": {
        "id": "GmoTppqIL0bO"
      },
      "source": [
        "#### Autoencoders for PTBDB"
      ]
    },
    {
      "cell_type": "code",
      "execution_count": null,
      "metadata": {
        "id": "1Sex9ldkL0bO"
      },
      "outputs": [],
      "source": [
        "# 4 differents models\n",
        "def autoencoder():\n",
        "    #encoder\n",
        "    inp = Input(shape=(187))\n",
        "    dense = Dense(128, activation=activations.relu)(inp)\n",
        "    dense = Dense(128, activation=activations.relu)(dense)\n",
        "    dense = Dense(64, activation=activations.relu)(dense)\n",
        "    drop = Dropout(rate=0.2)(dense)\n",
        "    dense = Dense(64, activation=activations.relu)(drop)\n",
        "    dense = Dense(32, activation=activations.relu)(dense)\n",
        "    \n",
        "    #decoder\n",
        "    dense = Dense(32, activation=activations.relu)(dense)\n",
        "    dense = Dense(64, activation=activations.relu)(dense)\n",
        "    drop = Dropout(rate=0.2)(dense)\n",
        "    dense = Dense(64, activation=activations.relu)(drop)\n",
        "    dense = Dense(128, activation=activations.relu)(dense)\n",
        "    dense = Dense(128, activation=activations.relu)(dense)\n",
        "    dense = Dense(187, activation=activations.sigmoid)(dense)\n",
        "\n",
        "    model = models.Model(inputs=inp, outputs=dense)\n",
        "    opt = optimizers.Adam(0.001)\n",
        "    model.compile(optimizer=opt, loss=\"mse\")\n",
        "    model.summary()\n",
        "    return model\n",
        "\n",
        "\n",
        "def autoencoder2():\n",
        "    inp = Input(shape=(187))\n",
        "    dense = Dense(128, activation=activations.relu)(inp)\n",
        "    dense = Dense(64, activation=activations.relu)(dense)\n",
        "    dense = Dense(128, activation=activations.relu)(dense)\n",
        "    dense = Dense(187, activation=activations.sigmoid)(dense)\n",
        "\n",
        "    model = models.Model(inputs=inp, outputs=dense)\n",
        "    opt = optimizers.Adam(0.001)\n",
        "    model.compile(optimizer=opt, loss=\"mse\")\n",
        "    model.summary()\n",
        "    return model\n",
        "\n",
        "def autoencoder3():\n",
        "    inp = Input(shape=(187))\n",
        "    dense = Dense(128, activation=activations.relu)(inp)\n",
        "    dense = Dense(80, activation=activations.relu)(dense)\n",
        "    dense = Dense(128, activation=activations.relu)(dense)\n",
        "    dense = Dense(187, activation=activations.sigmoid)(dense)\n",
        "\n",
        "    model = models.Model(inputs=inp, outputs=dense)\n",
        "    opt = optimizers.Adam(0.001)\n",
        "    model.compile(optimizer=opt, loss=\"mse\")\n",
        "    model.summary()\n",
        "    return model\n",
        "\n",
        "def autoencoder4():\n",
        "    inp = Input(shape=(187))\n",
        "    dense = Dense(128, activation=activations.relu)(inp)\n",
        "    dense = Dense(187, activation=activations.sigmoid)(dense)\n",
        "\n",
        "    model = models.Model(inputs=inp, outputs=dense)\n",
        "    opt = optimizers.Adam(0.001)\n",
        "    model.compile(optimizer=opt, loss=\"mse\")\n",
        "    model.summary()\n",
        "    return model"
      ]
    },
    {
      "cell_type": "code",
      "execution_count": null,
      "metadata": {
        "id": "H1wCkxQ2L0bP"
      },
      "outputs": [],
      "source": [
        "fitAutoencoders = True\n",
        "\n",
        "if fitAutoencoders:\n",
        "\n",
        "    modelAutoencoder4 = autoencoder4()\n",
        "    modelAutoencoder3 = autoencoder3()\n",
        "    modelAutoencoder2 = autoencoder2()\n",
        "    modelAutoencoder = autoencoder()\n",
        "    modelAutoencoders = [modelAutoencoder,modelAutoencoder2,modelAutoencoder3,modelAutoencoder4]\n",
        "\n",
        "    for i in range(len(modelAutoencoders)):\n",
        "        model = modelAutoencoders[i]\n",
        "        file_path = \"autoencoder\"+str(i+1)+\".h5\"\n",
        "        checkpoint = ModelCheckpoint(file_path, monitor='val_loss', verbose=1, save_best_only=True, mode='min')\n",
        "        early = EarlyStopping(monitor=\"val_loss\", mode=\"min\", patience=6, verbose=1)\n",
        "        redonplat = ReduceLROnPlateau(monitor=\"val_loss\", mode=\"min\", patience=3, verbose=2)\n",
        "        callbacks_list = [checkpoint, early, redonplat]\n",
        "        model.fit(X, X, epochs=50, verbose=2, callbacks=callbacks_list, validation_split=0.1)\n",
        "        model.load_weights(file_path)\n",
        "\n",
        "else:\n",
        "    modelAutoencoders = [load_model('autoencoder1.h5'),load_model('autoencoder2.h5'),load_model('autoencoder3.h5'),load_model('autoencoder4.h5')]"
      ]
    },
    {
      "cell_type": "code",
      "execution_count": null,
      "metadata": {
        "id": "KoAL_LSwL0bP",
        "outputId": "6c71cf84-e46c-4054-88a9-c351e2cc6904"
      },
      "outputs": [
        {
          "data": {
            "image/png": "[encoded data removed]",
            "text/plain": [
              "<Figure size 792x288 with 2 Axes>"
            ]
          },
          "metadata": {
            "needs_background": "light"
          },
          "output_type": "display_data"
        },
        {
          "data": {
            "image/png": "[encoded data removed]",
            "text/plain": [
              "<Figure size 792x288 with 2 Axes>"
            ]
          },
          "metadata": {
            "needs_background": "light"
          },
          "output_type": "display_data"
        },
        {
          "data": {
            "image/png": "[encoded data removed]",
            "text/plain": [
              "<Figure size 792x288 with 2 Axes>"
            ]
          },
          "metadata": {
            "needs_background": "light"
          },
          "output_type": "display_data"
        },
        {
          "data": {
            "image/png": "[encoded data removed]",
            "text/plain": [
              "<Figure size 792x288 with 2 Axes>"
            ]
          },
          "metadata": {
            "needs_background": "light"
          },
          "output_type": "display_data"
        }
      ],
      "source": [
        "#auto encoder\n",
        "for i in range(len(modelAutoencoders)):\n",
        "    model = modelAutoencoders[i]\n",
        "    pred_test = model.predict(X_test_ptbdb)\n",
        "\n",
        "    plt.figure(figsize=(11,4))\n",
        "    plt.subplot(1,2,1)\n",
        "    plt.plot(X_test_ptbdb[0])\n",
        "    plt.title(\"Class = \" + str(Y[0])) \n",
        "    plt.subplot(1,2,2)\n",
        "    plt.plot(pred_test[0])\n",
        "    plt.title(\"Prediction\")"
      ]
    },
    {
      "cell_type": "markdown",
      "metadata": {
        "id": "VbqIO5FbL0bP"
      },
      "source": [
        "### Encoders PTBDB"
      ]
    },
    {
      "cell_type": "code",
      "execution_count": null,
      "metadata": {
        "id": "tTvbcVAqL0bP"
      },
      "outputs": [],
      "source": [
        "aucroc = AUC(curve='ROC',name='roc')\n",
        "aucpr = AUC(curve='PR',name='pr')\n",
        "nclass = 1\n",
        "currentLoss = losses.binary_crossentropy\n",
        "currentMetrics =[aucpr,aucroc,'acc']\n",
        "activationFunction = activations.sigmoid\n",
        "\n",
        "def mlp():\n",
        "  inp = Input(shape=(187))\n",
        "  dense = Dense(128, activation=activations.relu)(inp)\n",
        "  drop = Dropout(rate=0.2)(dense)\n",
        "  dense = Dense(64, activation=activations.relu)(drop)\n",
        "  dense = Dense(64, activation=activations.relu)(dense)\n",
        "  dense = Dense(64, activation=activations.relu)(dense)\n",
        "  drop = Dropout(rate=0.2)(dense)\n",
        "  dense = Dense(64, activation=activations.relu)(drop)\n",
        "  dense = Dense(32, activation=activations.relu)(dense)\n",
        "  dense = Dense(16, activation=activations.relu)(dense)\n",
        "  dense = Dense(8, activation=activations.relu)(dense)\n",
        "  dense2 = Dense(nclass, activation=activationFunction)(dense)\n",
        "  model = models.Model(inputs=inp, outputs=dense2)\n",
        "  opt = optimizers.Adam(0.001)\n",
        "  model.compile(optimizer=opt, loss=currentLoss, metrics=currentMetrics)\n",
        "  model.summary()\n",
        "  return model\n",
        "\n",
        "def mlp2():\n",
        "    inp = Input(shape=(187))\n",
        "    dense = Dense(128, activation=activations.relu)(inp)\n",
        "    drop = Dropout(rate=0.1)(dense)\n",
        "    dense = Dense(128, activation=activations.relu)(drop)\n",
        "    dense = Dense(nclass, activation=activationFunction)(dense)\n",
        "    model = models.Model(inputs=inp, outputs=dense)\n",
        "    opt = optimizers.Adam(0.001)\n",
        "    model.compile(optimizer=opt, loss=currentLoss, metrics=currentMetrics)\n",
        "    model.summary()\n",
        "    return model\n",
        "\n",
        "def mlp3():\n",
        "    inp = Input(shape=(187))\n",
        "    dense = Dense(128, activation=activations.relu)(inp)\n",
        "    drop = Dropout(rate=0.1)(dense)\n",
        "    dense = Dense(128, activation=activations.relu)(drop)\n",
        "    dense = Dense(64, activation=activations.relu)(dense)\n",
        "    dense = Dense(64, activation=activations.relu)(dense)\n",
        "    dense = Dense(nclass, activation=activationFunction)(dense)\n",
        "    model = models.Model(inputs=inp, outputs=dense)\n",
        "    opt = optimizers.Adam(0.001)\n",
        "    model.compile(optimizer=opt, loss=currentLoss, metrics=currentMetrics)\n",
        "    model.summary()\n",
        "    return model\n",
        "\n",
        "def mlp4():\n",
        "    inp = Input(shape=(187))\n",
        "    dense = Dense(128, activation=activations.relu)(inp)\n",
        "    dense = Dense(64, activation=activations.relu)(dense)\n",
        "    dense = Dense(32, activation=activations.relu)(dense)\n",
        "    dense = Dense(nclass, activation=activationFunction)(dense)\n",
        "    model = models.Model(inputs=inp, outputs=dense)\n",
        "    opt = optimizers.Adam(0.001)\n",
        "    model.compile(optimizer=opt, loss=currentLoss, metrics=currentMetrics)\n",
        "    model.summary()\n",
        "    return model\n",
        "  \n",
        "def mlp5(): #best in both datasets\n",
        "    inp = Input(shape=(187))\n",
        "    dense = Dense(256, activation=activations.relu)(inp)\n",
        "    drop = Dropout(rate=0.1)(dense)\n",
        "    dense = Dense(128, activation=activations.relu)(drop)\n",
        "    dense = Dense(64, activation=activations.relu)(dense)\n",
        "    dense = Dense(nclass, activation=activationFunction)(dense)\n",
        "    model = models.Model(inputs=inp, outputs=dense)\n",
        "    opt = optimizers.Adam(0.001)\n",
        "    model.compile(optimizer=opt, loss=currentLoss, metrics=currentMetrics)\n",
        "    model.summary()\n",
        "    return model\n",
        "\n",
        "def mlp6():\n",
        "    inp = Input(shape=(187))\n",
        "    dense = Dense(256, activation=activations.relu)(inp)\n",
        "    dense = Dense(32, activation=activations.relu)(dense)\n",
        "    dense = Dense(nclass, activation=activationFunction)(dense)\n",
        "    model = models.Model(inputs=inp, outputs=dense)\n",
        "    opt = optimizers.Adam(0.001)\n",
        "    model.compile(optimizer=opt, loss=currentLoss, metrics=currentMetrics)\n",
        "    model.summary()\n",
        "    return model\n",
        "\n",
        "def mlp7():\n",
        "    inp = Input(shape=(187))\n",
        "    dense = Dense(64, activation=activations.relu)(inp)\n",
        "    dense = Dense(64, activation=activations.relu)(dense)\n",
        "    drop = Dropout(rate=0.1)(dense)\n",
        "    dense = Dense(64, activation=activations.relu)(drop)\n",
        "    dense = Dense(64, activation=activations.relu)(dense)\n",
        "    drop = Dropout(rate=0.1)(dense)\n",
        "    dense = Dense(64, activation=activations.relu)(drop)\n",
        "    dense = Dense(32, activation=activations.relu)(dense)\n",
        "    dense = Dense(nclass, activation=activationFunction)(dense)\n",
        "    model = models.Model(inputs=inp, outputs=dense)\n",
        "    opt = optimizers.Adam(0.001)\n",
        "    model.compile(optimizer=opt, loss=currentLoss, metrics=currentMetrics)\n",
        "    model.summary()\n",
        "    return model\n",
        "\n",
        "def mlp8():\n",
        "    inp = Input(shape=(187))\n",
        "    dense = Dense(150, activation=activations.relu)(inp)\n",
        "    dense = Dense(100, activation=activations.relu)(dense)\n",
        "    dense = Dense(50, activation=activations.relu)(dense)\n",
        "    dense = Dense(50, activation=activations.relu)(dense)\n",
        "    dense = Dense(30, activation=activations.relu)(dense)\n",
        "    dense = Dense(10, activation=activations.relu)(dense)\n",
        "    dense = Dense(nclass, activation=activationFunction)(dense)\n",
        "    model = models.Model(inputs=inp, outputs=dense)\n",
        "    opt = optimizers.Adam(0.001)\n",
        "    model.compile(optimizer=opt, loss=currentLoss, metrics=currentMetrics)\n",
        "    model.summary()\n",
        "    return model\n",
        "\n",
        "def mlp9():\n",
        "    inp = Input(shape=(187))\n",
        "    dense = Dense(250, activation=activations.relu)(inp)\n",
        "    dense = Dense(nclass, activation=activationFunction)(dense)\n",
        "    model = models.Model(inputs=inp, outputs=dense)\n",
        "    opt = optimizers.Adam(0.001)\n",
        "    model.compile(optimizer=opt, loss=currentLoss, metrics=currentMetrics)\n",
        "    model.summary()\n",
        "    return model\n",
        "\n",
        "def mlp10():\n",
        "    inp = Input(shape=(187))\n",
        "    dense = Dense(157, activation=activations.relu)(inp)\n",
        "    dense = Dense(127, activation=activations.relu)(dense)\n",
        "    dense = Dense(97, activation=activations.relu)(dense)\n",
        "    dense = Dense(67, activation=activations.relu)(dense)\n",
        "    dense = Dense(37, activation=activations.relu)(dense)\n",
        "    dense = Dense(7, activation=activations.relu)(dense)\n",
        "    dense = Dense(nclass, activation=activationFunction)(dense)\n",
        "    model = models.Model(inputs=inp, outputs=dense)\n",
        "    opt = optimizers.Adam(0.001)\n",
        "    model.compile(optimizer=opt, loss=currentLoss, metrics=currentMetrics)\n",
        "    model.summary()\n",
        "    return model\n",
        "\n",
        "def mlp11():\n",
        "    inp = Input(shape=(187))\n",
        "    dense = Dense(150, activation=activations.relu)(inp)\n",
        "    dense = Dense(120, activation=activations.relu)(dense)\n",
        "    dense = Dense(100, activation=activations.relu)(dense)\n",
        "    drop = Dropout(rate=0.1)(dense)\n",
        "    dense = Dense(60, activation=activations.relu)(drop)\n",
        "    dense = Dense(50, activation=activations.relu)(dense)\n",
        "    dense = Dense(30, activation=activations.relu)(dense)\n",
        "    drop = Dropout(rate=0.1)(dense)\n",
        "    dense = Dense(10, activation=activations.relu)(drop)\n",
        "    dense = Dense(nclass, activation=activationFunction)(dense)\n",
        "    model = models.Model(inputs=inp, outputs=dense)\n",
        "    opt = optimizers.Adam(0.001)\n",
        "    model.compile(optimizer=opt, loss=currentLoss, metrics=currentMetrics)\n",
        "    model.summary()\n",
        "    return model\n",
        "\n",
        "def mlp12():\n",
        "    inp = Input(shape=(187))\n",
        "    dense = Dense(150, activation=activations.relu)(inp)\n",
        "    dense = Dense(80, activation=activations.relu)(dense)\n",
        "    dense = Dense(60, activation=activations.relu)(dense)\n",
        "    dense = Dense(60, activation=activations.relu)(dense)\n",
        "    dense = Dense(nclass, activation=activationFunction)(dense)\n",
        "    model = models.Model(inputs=inp, outputs=dense)\n",
        "    opt = optimizers.Adam(0.001)\n",
        "    model.compile(optimizer=opt, loss=currentLoss, metrics=currentMetrics)\n",
        "    model.summary()\n",
        "    return model\n",
        "\n",
        "def mlp13():\n",
        "    inp = Input(shape=(187))\n",
        "    dense = Dense(100, activation=activations.relu)(inp)\n",
        "    dense = Dense(40, activation=activations.relu)(dense)\n",
        "    dense = Dense(nclass, activation=activationFunction)(dense)\n",
        "    model = models.Model(inputs=inp, outputs=dense)\n",
        "    opt = optimizers.Adam(0.001)\n",
        "    model.compile(optimizer=opt, loss=currentLoss, metrics=currentMetrics)\n",
        "    model.summary()\n",
        "    return model\n",
        "\n",
        "def mlp14():\n",
        "    inp = Input(shape=(187))\n",
        "    dense = Dense(100, activation=activations.relu)(inp)\n",
        "    dense = Dense(70, activation=activations.relu)(dense)\n",
        "    drop = Dropout(rate=0.1)(dense)\n",
        "    dense = Dense(70, activation=activations.relu)(drop)\n",
        "    dense = Dense(30, activation=activations.relu)(dense)\n",
        "    dense = Dense(nclass, activation=activationFunction)(dense)\n",
        "    model = models.Model(inputs=inp, outputs=dense)\n",
        "    opt = optimizers.Adam(0.001)\n",
        "    model.compile(optimizer=opt, loss=currentLoss, metrics=currentMetrics)\n",
        "    model.summary()\n",
        "    return model\n",
        "\n",
        "def mlp15():\n",
        "    inp = Input(shape=(187))\n",
        "    dense = Dense(200, activation=activations.relu)(inp)\n",
        "    drop = Dropout(rate=0.1)(dense)\n",
        "    dense = Dense(300, activation=activations.relu)(drop)\n",
        "    drop = Dropout(rate=0.1)(dense)\n",
        "    dense = Dense(200, activation=activations.relu)(drop)\n",
        "    drop = Dropout(rate=0.1)(dense)\n",
        "    dense = Dense(150, activation=activations.relu)(drop)\n",
        "    drop = Dropout(rate=0.1)(dense)\n",
        "    dense = Dense(100, activation=activations.relu)(drop)\n",
        "    dense = Dense(50, activation=activations.relu)(dense)\n",
        "    dense = Dense(25, activation=activations.relu)(dense)\n",
        "    dense = Dense(10, activation=activations.relu)(dense)\n",
        "    dense = Dense(nclass, activation=activationFunction)(dense)\n",
        "    model = models.Model(inputs=inp, outputs=dense)\n",
        "    opt = optimizers.Adam(0.001)\n",
        "    model.compile(optimizer=opt, loss=currentLoss, metrics=currentMetrics)\n",
        "    model.summary()\n",
        "    return model\n",
        "\n",
        "def mlp16():\n",
        "    inp = Input(shape=(187))\n",
        "    dense = Dense(187, activation=activations.relu)(inp)\n",
        "    drop = Dropout(rate=0.1)(dense)\n",
        "    dense = Dense(230, activation=activations.relu)(drop)\n",
        "    drop = Dropout(rate=0.2)(dense)\n",
        "    dense = Dense(230, activation=activations.relu)(drop)\n",
        "    drop = Dropout(rate=0.1)(dense)\n",
        "    dense = Dense(187, activation=activations.relu)(drop)\n",
        "    drop = Dropout(rate=0.1)(dense)\n",
        "    dense = Dense(100, activation=activations.relu)(drop)\n",
        "    dense = Dense(10, activation=activations.relu)(dense)\n",
        "    dense = Dense(nclass, activation=activationFunction)(dense)\n",
        "    model = models.Model(inputs=inp, outputs=dense)\n",
        "    opt = optimizers.Adam(0.001)\n",
        "    model.compile(optimizer=opt, loss=currentLoss, metrics=currentMetrics)\n",
        "    model.summary()\n",
        "    return model\n",
        "\n",
        "def mlp17():\n",
        "    inp = Input(shape=(187))\n",
        "    dense = Dense(128, activation=activations.relu)(inp)\n",
        "    drop = Dropout(rate=0.1)(dense)\n",
        "    dense = Dense(256, activation=activations.relu)(drop)\n",
        "    dense = Dense(128, activation=activations.relu)(dense)\n",
        "    dense = Dense(64, activation=activations.relu)(dense)\n",
        "    dense = Dense(32, activation=activations.relu)(dense)\n",
        "    drop = Dropout(rate=0.1)(dense)\n",
        "    dense = Dense(32, activation=activations.relu)(drop)\n",
        "    dense = Dense(nclass, activation=activationFunction)(dense)\n",
        "    model = models.Model(inputs=inp, outputs=dense)\n",
        "    opt = optimizers.Adam(0.001)\n",
        "    model.compile(optimizer=opt, loss=currentLoss, metrics=currentMetrics)\n",
        "    model.summary()\n",
        "    return model\n",
        "\n",
        "def mlp18():\n",
        "    inp = Input(shape=(187))\n",
        "    dense = Dense(150, activation=activations.relu)(inp)\n",
        "    drop = Dropout(rate=0.1)(dense)\n",
        "    dense = Dense(100, activation=activations.relu)(drop)\n",
        "    drop = Dropout(rate=0.1)(dense)\n",
        "    dense = Dense(50, activation=activations.relu)(drop)\n",
        "    dense = Dense(25, activation=activations.relu)(dense)\n",
        "    dense = Dense(10, activation=activations.relu)(dense)\n",
        "    dense = Dense(5, activation=activations.relu)(dense)\n",
        "    dense = Dense(nclass, activation=activationFunction)(dense)\n",
        "    model = models.Model(inputs=inp, outputs=dense)\n",
        "    opt = optimizers.Adam(0.001)\n",
        "    model.compile(optimizer=opt, loss=currentLoss, metrics=currentMetrics)\n",
        "    model.summary()\n",
        "    return model\n",
        "\n",
        "def mlp19():\n",
        "    inp = Input(shape=(187))\n",
        "    dense = Dense(500, activation=activations.relu)(inp)\n",
        "    dense = Dense(nclass, activation=activationFunction)(dense)\n",
        "    model = models.Model(inputs=inp, outputs=dense)\n",
        "    opt = optimizers.Adam(0.001)\n",
        "    model.compile(optimizer=opt, loss=currentLoss, metrics=currentMetrics)\n",
        "    model.summary()\n",
        "    return model\n",
        "\n",
        "def mlp20():\n",
        "    inp = Input(shape=(187))\n",
        "    dense = Dense(300, activation=activations.relu)(inp)\n",
        "    drop = Dropout(rate=0.1)(dense)\n",
        "    dense = Dense(50, activation=activations.relu)(drop)\n",
        "    dense = Dense(nclass, activation=activationFunction)(dense)\n",
        "    model = models.Model(inputs=inp, outputs=dense)\n",
        "    opt = optimizers.Adam(0.001)\n",
        "    model.compile(optimizer=opt, loss=currentLoss, metrics=currentMetrics)\n",
        "    model.summary()\n",
        "    return model\n",
        "\n",
        "def mlp21():\n",
        "    inp = Input(shape=(187))\n",
        "    dense = Dense(150, activation=activations.relu)(inp)\n",
        "    drop = Dropout(rate=0.1)(dense)\n",
        "    dense = Dense(100, activation=activations.relu)(drop)\n",
        "    drop = Dropout(rate=0.1)(dense)\n",
        "    dense = Dense(100, activation=activations.relu)(drop)\n",
        "    drop = Dropout(rate=0.1)(dense)\n",
        "    dense = Dense(50, activation=activations.relu)(drop)\n",
        "    dense = Dense(20, activation=activations.relu)(drop)\n",
        "    dense = Dense(nclass, activation=activationFunction)(dense)\n",
        "    model = models.Model(inputs=inp, outputs=dense)\n",
        "    opt = optimizers.Adam(0.001)\n",
        "    model.compile(optimizer=opt, loss=currentLoss, metrics=currentMetrics)\n",
        "    model.summary()\n",
        "    return model"
      ]
    },
    {
      "cell_type": "code",
      "execution_count": null,
      "metadata": {
        "id": "Pl2wyNhtL0bQ"
      },
      "outputs": [],
      "source": [
        "fitEncoders = True\n",
        "\n",
        "if fitEncoders:\n",
        "\n",
        "    modelMLP = mlp()\n",
        "    modelMLP2 = mlp2()\n",
        "    modelMLP3 = mlp3()\n",
        "    modelMLP4 = mlp4()\n",
        "    modelMLP5 = mlp5()\n",
        "    modelMLP6 = mlp6()\n",
        "    modelMLP7 = mlp7()\n",
        "    modelMLP8 = mlp8()\n",
        "    modelMLP9 = mlp9()\n",
        "    modelMLP10 = mlp10()\n",
        "    modelMLP11 = mlp11()\n",
        "    modelMLP12 = mlp12()\n",
        "    modelMLP13 = mlp13()\n",
        "    modelMLP14 = mlp14()\n",
        "    modelMLP15 = mlp15()\n",
        "    modelMLP16 = mlp16()\n",
        "    modelMLP17 = mlp17()\n",
        "    modelMLP18 = mlp18()\n",
        "    modelMLP19 = mlp19()\n",
        "    modelMLP20 = mlp20()\n",
        "    modelMLP21 = mlp21()\n",
        "    modelsMLP = [modelMLP,modelMLP2,modelMLP3,modelMLP4,modelMLP5,modelMLP6,modelMLP7,modelMLP8,modelMLP9,modelMLP10,modelMLP11,modelMLP12,modelMLP13,modelMLP14,modelMLP15,modelMLP16,modelMLP17,modelMLP18,modelMLP19,modelMLP20,modelMLP21]\n",
        "\n",
        "    for i in range(len(modelsMLP)):\n",
        "        model = modelsMLP[i]\n",
        "        file_path = \"encoder\"+str(i+1)+\"_ptbdb.h5\"\n",
        "        checkpoint = ModelCheckpoint(file_path, monitor='val_acc', verbose=1, save_best_only=True, mode='max')\n",
        "        early = EarlyStopping(monitor=\"val_acc\", mode=\"max\", patience=15, verbose=1)\n",
        "        redonplat = ReduceLROnPlateau(monitor=\"val_acc\", mode=\"max\", patience=10, verbose=2)\n",
        "        callbacks_list = [checkpoint, early, redonplat]\n",
        "        model.fit(X_ptbdb, Y_ptbdb, epochs=100, verbose=2, callbacks=callbacks_list, validation_split=0.1)\n",
        "        model.load_weights(file_path)\n",
        "else:\n",
        "    modelsMLP = []\n",
        "    for i in range(21):\n",
        "        modelsMLP.append(load_model('encoder'+str(i+1)+'_ptbdb.h5'))"
      ]
    },
    {
      "cell_type": "code",
      "execution_count": null,
      "metadata": {
        "id": "XgNFQEvgL0bQ",
        "outputId": "4ea2aabf-fabc-4972-ed3d-df10d9241132"
      },
      "outputs": [
        {
          "name": "stdout",
          "output_type": "stream",
          "text": [
            "Encoder 1\n",
            "Test f1 score : 0.9838479809976247 \n",
            "Test accuracy score : 0.9766403297835795 \n",
            "\n",
            "Encoder 2\n",
            "Test f1 score : 0.9837476099426387 \n",
            "Test accuracy score : 0.9766403297835795 \n",
            "\n",
            "Encoder 3\n",
            "Test f1 score : 0.9828734538534729 \n",
            "Test accuracy score : 0.9752662315355548 \n",
            "\n",
            "Encoder 4\n",
            "Test f1 score : 0.9821640903686089 \n",
            "Test accuracy score : 0.9742356578495363 \n",
            "\n",
            "Encoder 5\n",
            "Test f1 score : 0.9857346647646219 \n",
            "Test accuracy score : 0.979388526279629 \n",
            "\n",
            "Encoder 6\n",
            "Test f1 score : 0.9823893384102809 \n",
            "Test accuracy score : 0.9745791824115424 \n",
            "\n",
            "Encoder 7\n",
            "Test f1 score : 0.9802239695020252 \n",
            "Test accuracy score : 0.9714874613534867 \n",
            "\n",
            "Encoder 8\n",
            "Test f1 score : 0.9840286054827175 \n",
            "Test accuracy score : 0.9769838543455857 \n",
            "\n",
            "Encoder 9\n",
            "Test f1 score : 0.9794945159752027 \n",
            "Test accuracy score : 0.9704568876674682 \n",
            "\n",
            "Encoder 10\n",
            "Test f1 score : 0.9850107066381156 \n",
            "Test accuracy score : 0.9783579525936105 \n",
            "\n",
            "Encoder 11\n",
            "Test f1 score : 0.981904761904762 \n",
            "Test accuracy score : 0.9738921332875301 \n",
            "\n",
            "Encoder 12\n",
            "Test f1 score : 0.9828978622327791 \n",
            "Test accuracy score : 0.9752662315355548 \n",
            "\n",
            "Encoder 13\n",
            "Test f1 score : 0.9777565175795265 \n",
            "Test accuracy score : 0.9680522157334249 \n",
            "\n",
            "Encoder 14\n",
            "Test f1 score : 0.9795140543115769 \n",
            "Test accuracy score : 0.9704568876674682 \n",
            "\n",
            "Encoder 15\n",
            "Test f1 score : 0.9830831546342625 \n",
            "Test accuracy score : 0.975609756097561 \n",
            "\n",
            "Encoder 16\n",
            "Test f1 score : 0.9834044570886677 \n",
            "Test accuracy score : 0.9759532806595672 \n",
            "\n",
            "Encoder 17\n",
            "Test f1 score : 0.9804482594182166 \n",
            "Test accuracy score : 0.971830985915493 \n",
            "\n",
            "Encoder 18\n",
            "Test f1 score : 0.9845642365233911 \n",
            "Test accuracy score : 0.9776709034695981 \n",
            "\n",
            "Encoder 19\n",
            "Test f1 score : 0.9811410837908809 \n",
            "Test accuracy score : 0.9728615596015115 \n",
            "\n",
            "Encoder 20\n",
            "Test f1 score : 0.9824561403508771 \n",
            "Test accuracy score : 0.9745791824115424 \n",
            "\n",
            "Encoder 21\n",
            "Test f1 score : 0.9829302987197723 \n",
            "Test accuracy score : 0.9752662315355548 \n",
            "\n",
            "Best encoder is encoder number 5\n",
            "8 encoders taken into account for ensemble part\n"
          ]
        }
      ],
      "source": [
        "predictionsBestEncodersPTBDB = []\n",
        "f1scoresEncoders = []\n",
        "for i in range(len(modelsMLP)):\n",
        "    model = modelsMLP[i]\n",
        "    pred_test = model.predict(X_test_ptbdb)\n",
        "    pred_test = (pred_test>0.5).astype(np.int8)\n",
        "    print(\"Encoder \" + str(i+1))\n",
        "\n",
        "    f1 = f1_score(Y_test_ptbdb, pred_test)\n",
        "    f1scoresEncoders.append(f1)\n",
        "    print(\"Test f1 score : %s \"% f1)\n",
        "\n",
        "    acc = accuracy_score(Y_test_ptbdb, pred_test)\n",
        "\n",
        "    print(\"Test accuracy score : %s \\n\"% acc)\n",
        "    if f1>=0.983:\n",
        "        predictionsBestEncodersPTBDB.append(pred_test)\n",
        "\n",
        "print('Best encoder is encoder number',np.argmax(f1scoresEncoders) + 1)\n",
        "print(str(len(predictionsBestEncodersPTBDB)) + ' encoders taken into account for ensemble part')"
      ]
    },
    {
      "cell_type": "markdown",
      "metadata": {
        "id": "2p_ZstTfL0bQ"
      },
      "source": [
        "### Encoders MITBIH"
      ]
    },
    {
      "cell_type": "code",
      "execution_count": null,
      "metadata": {
        "id": "V35WQfE0L0bQ"
      },
      "outputs": [],
      "source": [
        "nclass = 5\n",
        "currentLoss = losses.sparse_categorical_crossentropy\n",
        "currentMetrics =['acc']\n",
        "activationFunction = activations.softmax\n",
        "\n",
        "def mlp():\n",
        "  inp = Input(shape=(187))\n",
        "  dense = Dense(128, activation=activations.relu)(inp)\n",
        "  drop = Dropout(rate=0.2)(dense)\n",
        "  dense = Dense(64, activation=activations.relu)(drop)\n",
        "  dense = Dense(64, activation=activations.relu)(dense)\n",
        "  dense = Dense(64, activation=activations.relu)(dense)\n",
        "  drop = Dropout(rate=0.2)(dense)\n",
        "  dense = Dense(64, activation=activations.relu)(drop)\n",
        "  dense = Dense(32, activation=activations.relu)(dense)\n",
        "  dense = Dense(16, activation=activations.relu)(dense)\n",
        "  dense = Dense(8, activation=activations.relu)(dense)\n",
        "  dense2 = Dense(nclass, activation=activationFunction)(dense)\n",
        "  model = models.Model(inputs=inp, outputs=dense2)\n",
        "  opt = optimizers.Adam(0.001)\n",
        "  model.compile(optimizer=opt, loss=currentLoss, metrics=currentMetrics)\n",
        "  model.summary()\n",
        "  return model\n",
        "\n",
        "def mlp2():\n",
        "    inp = Input(shape=(187))\n",
        "    dense = Dense(128, activation=activations.relu)(inp)\n",
        "    drop = Dropout(rate=0.1)(dense)\n",
        "    dense = Dense(128, activation=activations.relu)(drop)\n",
        "    dense = Dense(nclass, activation=activationFunction)(dense)\n",
        "    model = models.Model(inputs=inp, outputs=dense)\n",
        "    opt = optimizers.Adam(0.001)\n",
        "    model.compile(optimizer=opt, loss=currentLoss, metrics=currentMetrics)\n",
        "    model.summary()\n",
        "    return model\n",
        "\n",
        "def mlp3():\n",
        "    inp = Input(shape=(187))\n",
        "    dense = Dense(128, activation=activations.relu)(inp)\n",
        "    drop = Dropout(rate=0.1)(dense)\n",
        "    dense = Dense(128, activation=activations.relu)(drop)\n",
        "    dense = Dense(64, activation=activations.relu)(dense)\n",
        "    dense = Dense(64, activation=activations.relu)(dense)\n",
        "    dense = Dense(nclass, activation=activationFunction)(dense)\n",
        "    model = models.Model(inputs=inp, outputs=dense)\n",
        "    opt = optimizers.Adam(0.001)\n",
        "    model.compile(optimizer=opt, loss=currentLoss, metrics=currentMetrics)\n",
        "    model.summary()\n",
        "    return model\n",
        "\n",
        "def mlp4():\n",
        "    inp = Input(shape=(187))\n",
        "    dense = Dense(128, activation=activations.relu)(inp)\n",
        "    dense = Dense(64, activation=activations.relu)(dense)\n",
        "    dense = Dense(32, activation=activations.relu)(dense)\n",
        "    dense = Dense(nclass, activation=activationFunction)(dense)\n",
        "    model = models.Model(inputs=inp, outputs=dense)\n",
        "    opt = optimizers.Adam(0.001)\n",
        "    model.compile(optimizer=opt, loss=currentLoss, metrics=currentMetrics)\n",
        "    model.summary()\n",
        "    return model\n",
        "  \n",
        "def mlp5(): #best in both datasets\n",
        "    inp = Input(shape=(187))\n",
        "    dense = Dense(256, activation=activations.relu)(inp)\n",
        "    drop = Dropout(rate=0.1)(dense)\n",
        "    dense = Dense(128, activation=activations.relu)(drop)\n",
        "    dense = Dense(64, activation=activations.relu)(dense)\n",
        "    dense = Dense(nclass, activation=activationFunction)(dense)\n",
        "    model = models.Model(inputs=inp, outputs=dense)\n",
        "    opt = optimizers.Adam(0.001)\n",
        "    model.compile(optimizer=opt, loss=currentLoss, metrics=currentMetrics)\n",
        "    model.summary()\n",
        "    return model\n",
        "\n",
        "def mlp6():\n",
        "    inp = Input(shape=(187))\n",
        "    dense = Dense(256, activation=activations.relu)(inp)\n",
        "    dense = Dense(32, activation=activations.relu)(dense)\n",
        "    dense = Dense(nclass, activation=activationFunction)(dense)\n",
        "    model = models.Model(inputs=inp, outputs=dense)\n",
        "    opt = optimizers.Adam(0.001)\n",
        "    model.compile(optimizer=opt, loss=currentLoss, metrics=currentMetrics)\n",
        "    model.summary()\n",
        "    return model\n",
        "\n",
        "def mlp7():\n",
        "    inp = Input(shape=(187))\n",
        "    dense = Dense(64, activation=activations.relu)(inp)\n",
        "    dense = Dense(64, activation=activations.relu)(dense)\n",
        "    drop = Dropout(rate=0.1)(dense)\n",
        "    dense = Dense(64, activation=activations.relu)(drop)\n",
        "    dense = Dense(64, activation=activations.relu)(dense)\n",
        "    drop = Dropout(rate=0.1)(dense)\n",
        "    dense = Dense(64, activation=activations.relu)(drop)\n",
        "    dense = Dense(32, activation=activations.relu)(dense)\n",
        "    dense = Dense(nclass, activation=activationFunction)(dense)\n",
        "    model = models.Model(inputs=inp, outputs=dense)\n",
        "    opt = optimizers.Adam(0.001)\n",
        "    model.compile(optimizer=opt, loss=currentLoss, metrics=currentMetrics)\n",
        "    model.summary()\n",
        "    return model\n",
        "\n",
        "def mlp8():\n",
        "    inp = Input(shape=(187))\n",
        "    dense = Dense(150, activation=activations.relu)(inp)\n",
        "    dense = Dense(100, activation=activations.relu)(dense)\n",
        "    dense = Dense(50, activation=activations.relu)(dense)\n",
        "    dense = Dense(50, activation=activations.relu)(dense)\n",
        "    dense = Dense(30, activation=activations.relu)(dense)\n",
        "    dense = Dense(10, activation=activations.relu)(dense)\n",
        "    dense = Dense(nclass, activation=activationFunction)(dense)\n",
        "    model = models.Model(inputs=inp, outputs=dense)\n",
        "    opt = optimizers.Adam(0.001)\n",
        "    model.compile(optimizer=opt, loss=currentLoss, metrics=currentMetrics)\n",
        "    model.summary()\n",
        "    return model\n",
        "\n",
        "def mlp9():\n",
        "    inp = Input(shape=(187))\n",
        "    dense = Dense(250, activation=activations.relu)(inp)\n",
        "    dense = Dense(nclass, activation=activationFunction)(dense)\n",
        "    model = models.Model(inputs=inp, outputs=dense)\n",
        "    opt = optimizers.Adam(0.001)\n",
        "    model.compile(optimizer=opt, loss=currentLoss, metrics=currentMetrics)\n",
        "    model.summary()\n",
        "    return model\n",
        "\n",
        "def mlp10():\n",
        "    inp = Input(shape=(187))\n",
        "    dense = Dense(157, activation=activations.relu)(inp)\n",
        "    dense = Dense(127, activation=activations.relu)(dense)\n",
        "    dense = Dense(97, activation=activations.relu)(dense)\n",
        "    dense = Dense(67, activation=activations.relu)(dense)\n",
        "    dense = Dense(37, activation=activations.relu)(dense)\n",
        "    dense = Dense(7, activation=activations.relu)(dense)\n",
        "    dense = Dense(nclass, activation=activationFunction)(dense)\n",
        "    model = models.Model(inputs=inp, outputs=dense)\n",
        "    opt = optimizers.Adam(0.001)\n",
        "    model.compile(optimizer=opt, loss=currentLoss, metrics=currentMetrics)\n",
        "    model.summary()\n",
        "    return model\n",
        "\n",
        "def mlp11():\n",
        "    inp = Input(shape=(187))\n",
        "    dense = Dense(150, activation=activations.relu)(inp)\n",
        "    dense = Dense(120, activation=activations.relu)(dense)\n",
        "    dense = Dense(100, activation=activations.relu)(dense)\n",
        "    drop = Dropout(rate=0.1)(dense)\n",
        "    dense = Dense(60, activation=activations.relu)(drop)\n",
        "    dense = Dense(50, activation=activations.relu)(dense)\n",
        "    dense = Dense(30, activation=activations.relu)(dense)\n",
        "    drop = Dropout(rate=0.1)(dense)\n",
        "    dense = Dense(10, activation=activations.relu)(drop)\n",
        "    dense = Dense(nclass, activation=activationFunction)(dense)\n",
        "    model = models.Model(inputs=inp, outputs=dense)\n",
        "    opt = optimizers.Adam(0.001)\n",
        "    model.compile(optimizer=opt, loss=currentLoss, metrics=currentMetrics)\n",
        "    model.summary()\n",
        "    return model\n",
        "\n",
        "def mlp12():\n",
        "    inp = Input(shape=(187))\n",
        "    dense = Dense(150, activation=activations.relu)(inp)\n",
        "    dense = Dense(80, activation=activations.relu)(dense)\n",
        "    dense = Dense(60, activation=activations.relu)(dense)\n",
        "    dense = Dense(60, activation=activations.relu)(dense)\n",
        "    dense = Dense(nclass, activation=activationFunction)(dense)\n",
        "    model = models.Model(inputs=inp, outputs=dense)\n",
        "    opt = optimizers.Adam(0.001)\n",
        "    model.compile(optimizer=opt, loss=currentLoss, metrics=currentMetrics)\n",
        "    model.summary()\n",
        "    return model\n",
        "\n",
        "def mlp13():\n",
        "    inp = Input(shape=(187))\n",
        "    dense = Dense(100, activation=activations.relu)(inp)\n",
        "    dense = Dense(40, activation=activations.relu)(dense)\n",
        "    dense = Dense(nclass, activation=activationFunction)(dense)\n",
        "    model = models.Model(inputs=inp, outputs=dense)\n",
        "    opt = optimizers.Adam(0.001)\n",
        "    model.compile(optimizer=opt, loss=currentLoss, metrics=currentMetrics)\n",
        "    model.summary()\n",
        "    return model\n",
        "\n",
        "def mlp14():\n",
        "    inp = Input(shape=(187))\n",
        "    dense = Dense(100, activation=activations.relu)(inp)\n",
        "    dense = Dense(70, activation=activations.relu)(dense)\n",
        "    drop = Dropout(rate=0.1)(dense)\n",
        "    dense = Dense(70, activation=activations.relu)(drop)\n",
        "    dense = Dense(30, activation=activations.relu)(dense)\n",
        "    dense = Dense(nclass, activation=activationFunction)(dense)\n",
        "    model = models.Model(inputs=inp, outputs=dense)\n",
        "    opt = optimizers.Adam(0.001)\n",
        "    model.compile(optimizer=opt, loss=currentLoss, metrics=currentMetrics)\n",
        "    model.summary()\n",
        "    return model\n",
        "\n",
        "def mlp15():\n",
        "    inp = Input(shape=(187))\n",
        "    dense = Dense(200, activation=activations.relu)(inp)\n",
        "    drop = Dropout(rate=0.1)(dense)\n",
        "    dense = Dense(300, activation=activations.relu)(drop)\n",
        "    drop = Dropout(rate=0.1)(dense)\n",
        "    dense = Dense(200, activation=activations.relu)(drop)\n",
        "    drop = Dropout(rate=0.1)(dense)\n",
        "    dense = Dense(150, activation=activations.relu)(drop)\n",
        "    drop = Dropout(rate=0.1)(dense)\n",
        "    dense = Dense(100, activation=activations.relu)(drop)\n",
        "    dense = Dense(50, activation=activations.relu)(dense)\n",
        "    dense = Dense(25, activation=activations.relu)(dense)\n",
        "    dense = Dense(10, activation=activations.relu)(dense)\n",
        "    dense = Dense(nclass, activation=activationFunction)(dense)\n",
        "    model = models.Model(inputs=inp, outputs=dense)\n",
        "    opt = optimizers.Adam(0.001)\n",
        "    model.compile(optimizer=opt, loss=currentLoss, metrics=currentMetrics)\n",
        "    model.summary()\n",
        "    return model\n",
        "\n",
        "def mlp16():\n",
        "    inp = Input(shape=(187))\n",
        "    dense = Dense(187, activation=activations.relu)(inp)\n",
        "    drop = Dropout(rate=0.1)(dense)\n",
        "    dense = Dense(230, activation=activations.relu)(drop)\n",
        "    drop = Dropout(rate=0.2)(dense)\n",
        "    dense = Dense(230, activation=activations.relu)(drop)\n",
        "    drop = Dropout(rate=0.1)(dense)\n",
        "    dense = Dense(187, activation=activations.relu)(drop)\n",
        "    drop = Dropout(rate=0.1)(dense)\n",
        "    dense = Dense(100, activation=activations.relu)(drop)\n",
        "    dense = Dense(10, activation=activations.relu)(dense)\n",
        "    dense = Dense(nclass, activation=activationFunction)(dense)\n",
        "    model = models.Model(inputs=inp, outputs=dense)\n",
        "    opt = optimizers.Adam(0.001)\n",
        "    model.compile(optimizer=opt, loss=currentLoss, metrics=currentMetrics)\n",
        "    model.summary()\n",
        "    return model\n",
        "\n",
        "def mlp17():\n",
        "    inp = Input(shape=(187))\n",
        "    dense = Dense(128, activation=activations.relu)(inp)\n",
        "    drop = Dropout(rate=0.1)(dense)\n",
        "    dense = Dense(256, activation=activations.relu)(drop)\n",
        "    dense = Dense(128, activation=activations.relu)(dense)\n",
        "    dense = Dense(64, activation=activations.relu)(dense)\n",
        "    dense = Dense(32, activation=activations.relu)(dense)\n",
        "    drop = Dropout(rate=0.1)(dense)\n",
        "    dense = Dense(32, activation=activations.relu)(drop)\n",
        "    dense = Dense(nclass, activation=activationFunction)(dense)\n",
        "    model = models.Model(inputs=inp, outputs=dense)\n",
        "    opt = optimizers.Adam(0.001)\n",
        "    model.compile(optimizer=opt, loss=currentLoss, metrics=currentMetrics)\n",
        "    model.summary()\n",
        "    return model\n",
        "\n",
        "def mlp18():\n",
        "    inp = Input(shape=(187))\n",
        "    dense = Dense(150, activation=activations.relu)(inp)\n",
        "    drop = Dropout(rate=0.1)(dense)\n",
        "    dense = Dense(100, activation=activations.relu)(drop)\n",
        "    drop = Dropout(rate=0.1)(dense)\n",
        "    dense = Dense(50, activation=activations.relu)(drop)\n",
        "    dense = Dense(25, activation=activations.relu)(dense)\n",
        "    dense = Dense(10, activation=activations.relu)(dense)\n",
        "    dense = Dense(5, activation=activations.relu)(dense)\n",
        "    dense = Dense(nclass, activation=activationFunction)(dense)\n",
        "    model = models.Model(inputs=inp, outputs=dense)\n",
        "    opt = optimizers.Adam(0.001)\n",
        "    model.compile(optimizer=opt, loss=currentLoss, metrics=currentMetrics)\n",
        "    model.summary()\n",
        "    return model\n",
        "\n",
        "def mlp19():\n",
        "    inp = Input(shape=(187))\n",
        "    dense = Dense(500, activation=activations.relu)(inp)\n",
        "    dense = Dense(nclass, activation=activationFunction)(dense)\n",
        "    model = models.Model(inputs=inp, outputs=dense)\n",
        "    opt = optimizers.Adam(0.001)\n",
        "    model.compile(optimizer=opt, loss=currentLoss, metrics=currentMetrics)\n",
        "    model.summary()\n",
        "    return model\n",
        "\n",
        "def mlp20():\n",
        "    inp = Input(shape=(187))\n",
        "    dense = Dense(300, activation=activations.relu)(inp)\n",
        "    drop = Dropout(rate=0.1)(dense)\n",
        "    dense = Dense(50, activation=activations.relu)(drop)\n",
        "    dense = Dense(nclass, activation=activationFunction)(dense)\n",
        "    model = models.Model(inputs=inp, outputs=dense)\n",
        "    opt = optimizers.Adam(0.001)\n",
        "    model.compile(optimizer=opt, loss=currentLoss, metrics=currentMetrics)\n",
        "    model.summary()\n",
        "    return model\n",
        "\n",
        "def mlp21():\n",
        "    inp = Input(shape=(187))\n",
        "    dense = Dense(150, activation=activations.relu)(inp)\n",
        "    drop = Dropout(rate=0.1)(dense)\n",
        "    dense = Dense(100, activation=activations.relu)(drop)\n",
        "    drop = Dropout(rate=0.1)(dense)\n",
        "    dense = Dense(100, activation=activations.relu)(drop)\n",
        "    drop = Dropout(rate=0.1)(dense)\n",
        "    dense = Dense(50, activation=activations.relu)(drop)\n",
        "    dense = Dense(20, activation=activations.relu)(drop)\n",
        "    dense = Dense(nclass, activation=activationFunction)(dense)\n",
        "    model = models.Model(inputs=inp, outputs=dense)\n",
        "    opt = optimizers.Adam(0.001)\n",
        "    model.compile(optimizer=opt, loss=currentLoss, metrics=currentMetrics)\n",
        "    model.summary()\n",
        "    return model"
      ]
    },
    {
      "cell_type": "code",
      "execution_count": null,
      "metadata": {
        "id": "hy48FmR5L0bQ"
      },
      "outputs": [],
      "source": [
        "fitEncoders = True\n",
        "\n",
        "if fitEncoders:\n",
        "\n",
        "    modelMLP = mlp()\n",
        "    modelMLP2 = mlp2()\n",
        "    modelMLP3 = mlp3()\n",
        "    modelMLP4 = mlp4()\n",
        "    modelMLP5 = mlp5()\n",
        "    modelMLP6 = mlp6()\n",
        "    modelMLP7 = mlp7()\n",
        "    modelMLP8 = mlp8()\n",
        "    modelMLP9 = mlp9()\n",
        "    modelMLP10 = mlp10()\n",
        "    modelMLP11 = mlp11()\n",
        "    modelMLP12 = mlp12()\n",
        "    modelMLP13 = mlp13()\n",
        "    modelMLP14 = mlp14()\n",
        "    modelMLP15 = mlp15()\n",
        "    modelMLP16 = mlp16()\n",
        "    modelMLP17 = mlp17()\n",
        "    modelMLP18 = mlp18()\n",
        "    modelMLP19 = mlp19()\n",
        "    modelMLP20 = mlp20()\n",
        "    modelMLP21 = mlp21()\n",
        "    modelsMLP = [modelMLP,modelMLP2,modelMLP3,modelMLP4,modelMLP5,modelMLP6,modelMLP7,modelMLP8,modelMLP9,modelMLP10,modelMLP11,modelMLP12,modelMLP13,modelMLP14,modelMLP15,modelMLP16,modelMLP17,modelMLP18,modelMLP19,modelMLP20,modelMLP21]\n",
        "\n",
        "    for i in range(len(modelsMLP)):\n",
        "        model = modelsMLP[i]\n",
        "        file_path = \"encoder\"+str(i+1)+\"_MITBIH.h5\"\n",
        "        checkpoint = ModelCheckpoint(file_path, monitor='val_acc', verbose=1, save_best_only=True, mode='max')\n",
        "        early = EarlyStopping(monitor=\"val_acc\", mode=\"max\", patience=15, verbose=1)\n",
        "        redonplat = ReduceLROnPlateau(monitor=\"val_acc\", mode=\"max\", patience=10, verbose=2)\n",
        "        callbacks_list = [checkpoint, early, redonplat]\n",
        "        model.fit(X_ptbdb, Y_ptbdb, epochs=100, verbose=2, callbacks=callbacks_list, validation_split=0.1)\n",
        "        model.load_weights(file_path)\n",
        "else:\n",
        "    modelsMLP = []\n",
        "    for i in range(21):\n",
        "        modelsMLP.append(load_model('encoder'+str(i+1)+'_MITBIH.h5'))"
      ]
    },
    {
      "cell_type": "code",
      "execution_count": null,
      "metadata": {
        "id": "srNo05obL0bR",
        "outputId": "0e82ec5a-a807-4c1d-dd1c-1065a69fa9ad"
      },
      "outputs": [
        {
          "name": "stdout",
          "output_type": "stream",
          "text": [
            "Encoder 1\n",
            "Test f1 score : 0.8964076470151339 \n",
            "Test accuracy score : 0.9811346610634022 \n",
            "\n",
            "Encoder 2\n",
            "Test f1 score : 0.9127260035851457 \n",
            "Test accuracy score : 0.9836926731226019 \n",
            "\n",
            "Encoder 3\n",
            "Test f1 score : 0.8903879231686103 \n",
            "Test accuracy score : 0.9807692307692307 \n",
            "\n",
            "Encoder 4\n",
            "Test f1 score : 0.8969132927499903 \n",
            "Test accuracy score : 0.9807235519824593 \n",
            "\n",
            "Encoder 5\n",
            "Test f1 score : 0.9170602250894155 \n",
            "Test accuracy score : 0.983921067056459 \n",
            "\n",
            "Encoder 6\n",
            "Test f1 score : 0.9039726170070278 \n",
            "Test accuracy score : 0.9820482367988306 \n",
            "\n",
            "Encoder 7\n",
            "Test f1 score : 0.8980585457183551 \n",
            "Test accuracy score : 0.9804494792618308 \n",
            "\n",
            "Encoder 8\n",
            "Test f1 score : 0.9012899275147799 \n",
            "Test accuracy score : 0.981545770144345 \n",
            "\n",
            "Encoder 9\n",
            "Test f1 score : 0.9006813796899206 \n",
            "Test accuracy score : 0.9814087337840307 \n",
            "\n",
            "Encoder 10\n",
            "Test f1 score : 0.9069879475591405 \n",
            "Test accuracy score : 0.9821395943723734 \n",
            "\n",
            "Encoder 11\n",
            "Test f1 score : 0.9055992634387465 \n",
            "Test accuracy score : 0.9817741640782021 \n",
            "\n",
            "Encoder 12\n",
            "Test f1 score : 0.9067437718236144 \n",
            "Test accuracy score : 0.9821395943723734 \n",
            "\n",
            "Encoder 13\n",
            "Test f1 score : 0.901014943445265 \n",
            "Test accuracy score : 0.9806778731956879 \n",
            "\n",
            "Encoder 14\n",
            "Test f1 score : 0.9056727794748569 \n",
            "Test accuracy score : 0.9816828065046592 \n",
            "\n",
            "Encoder 15\n",
            "Test f1 score : 0.9061352308119804 \n",
            "Test accuracy score : 0.9825050246665449 \n",
            "\n",
            "Encoder 16\n",
            "Test f1 score : 0.9044476998182359 \n",
            "Test accuracy score : 0.982733418600402 \n",
            "\n",
            "Encoder 17\n",
            "Test f1 score : 0.9117473755049279 \n",
            "Test accuracy score : 0.9834186004019734 \n",
            "\n",
            "Encoder 18\n",
            "Test f1 score : 0.9044244196114939 \n",
            "Test accuracy score : 0.9817741640782021 \n",
            "\n",
            "Encoder 19\n",
            "Test f1 score : 0.8904154235394408 \n",
            "Test accuracy score : 0.9800840489676594 \n",
            "\n",
            "Encoder 20\n",
            "Test f1 score : 0.9040042380121405 \n",
            "Test accuracy score : 0.9829161337474877 \n",
            "\n",
            "Encoder 21\n",
            "Test f1 score : 0.8978691808332713 \n",
            "Test accuracy score : 0.9814087337840307 \n",
            "\n",
            "Best encoder is encoder number 5\n",
            "3 encoders taken into account for ensemble part\n"
          ]
        }
      ],
      "source": [
        "predictionsBestEncodersMITBIH = []\n",
        "f1scoresEncoders = []\n",
        "for i in range(len(modelsMLP)):\n",
        "    model = modelsMLP[i]\n",
        "    pred_test = model.predict(X_test)\n",
        "    pred_test = np.argmax(pred_test, axis=-1)\n",
        "    print(\"Encoder \" + str(i+1))\n",
        "\n",
        "    f1 = f1_score(Y_test, pred_test,average=\"macro\")\n",
        "    f1scoresEncoders.append(f1)\n",
        "    print(\"Test f1 score : %s \"% f1)\n",
        "\n",
        "    acc = accuracy_score(Y_test, pred_test)\n",
        "\n",
        "    print(\"Test accuracy score : %s \\n\"% acc)\n",
        "    if f1>=0.91:\n",
        "        predictionsBestEncodersMITBIH.append(pred_test)\n",
        "\n",
        "print('Best encoder is encoder number',np.argmax(f1scoresEncoders) + 1)\n",
        "print(str(len(predictionsBestEncodersMITBIH)) + ' encoders taken into account for ensemble part')"
      ]
    },
    {
      "cell_type": "markdown",
      "metadata": {
        "id": "WjFK5uAJL0bR"
      },
      "source": [
        "# Task 3 : Ensemble approach"
      ]
    },
    {
      "cell_type": "code",
      "execution_count": null,
      "metadata": {
        "id": "kYl5l33ZL0bR",
        "outputId": "b7653468-5166-4ab4-9988-71b2575193cb"
      },
      "outputs": [
        {
          "name": "stdout",
          "output_type": "stream",
          "text": [
            "PTBDB : 3 predictions included\n",
            "MITBIH : 3 predictions included\n"
          ]
        }
      ],
      "source": [
        "includeBestEncoders = False\n",
        "includeLgbm = True\n",
        "includeBestCNN = True\n",
        "includeBestRNN = True\n",
        "\n",
        "predictionsPTBDB = []\n",
        "predictionsMITBIH = []\n",
        "\n",
        "if includeBestEncoders:\n",
        "\n",
        "    for predictionEncoder in predictionsBestEncodersPTBDB:\n",
        "        predictionsPTBDB.append(predictionEncoder)\n",
        "\n",
        "    for predictionEncoder in predictionsBestEncodersMITBIH:\n",
        "        predictionsMITBIH.append(predictionEncoder)\n",
        "\n",
        "if includeLgbm:\n",
        "    predictionsPTBDB.append(pred_test_lgb_ptbdb.reshape(Y_test_ptbdb.shape[0],1))\n",
        "    predictionsMITBIH.append(pred_test_lgb_mitbih)\n",
        "\n",
        "if includeBestCNN:\n",
        "    predictionsPTBDB.append(pred_test11_ptbdb)\n",
        "    predictionsMITBIH.append(pred_test19)\n",
        "\n",
        "if includeBestRNN:\n",
        "    predictionsPTBDB.append(pred_test_gru_ptbdb)\n",
        "    predictionsMITBIH.append(pred_test_gru_mitbih)\n",
        "\n",
        "print('PTBDB : '+ str(len(predictionsPTBDB)) + ' predictions included')\n",
        "print('MITBIH : '+ str(len(predictionsMITBIH)) + ' predictions included')"
      ]
    },
    {
      "cell_type": "code",
      "execution_count": null,
      "metadata": {
        "id": "DO_hcDbnL0bR"
      },
      "outputs": [],
      "source": [
        "#make the labels vote to the most present class, in case they are in same proportion, the first one is taken\n",
        "def predict_average(list_predictions):\n",
        "    prediction = []\n",
        "    for i in range(list_predictions[0].shape[0]):\n",
        "        labels, counts = np.unique(list_predictions[:,i], return_counts=True) \n",
        "        prediction.append(labels[np.argmax(counts)])\n",
        "    return prediction"
      ]
    },
    {
      "cell_type": "code",
      "execution_count": null,
      "metadata": {
        "id": "BDSkRuFGL0bR",
        "outputId": "c00756f7-40ab-4f39-b716-270335292537"
      },
      "outputs": [
        {
          "name": "stdout",
          "output_type": "stream",
          "text": [
            "scores average PTBDB\n",
            "Test f1 score : 0.9983368971252079 \n",
            "Test accuracy score : 0.9975953280659567 \n",
            "\n",
            "scores average MITBIH\n",
            "Test f1 score : 0.9347302289923783 \n",
            "Test accuracy score : 0.988991412388087 \n",
            "\n"
          ]
        }
      ],
      "source": [
        "averagePTBDB = predict_average(np.array(predictionsPTBDB))\n",
        "print('scores average PTBDB')\n",
        "\n",
        "f1 = f1_score(Y_test_ptbdb, averagePTBDB)\n",
        "\n",
        "print(\"Test f1 score : %s \"% f1)\n",
        "\n",
        "acc = accuracy_score(Y_test_ptbdb, averagePTBDB)\n",
        "\n",
        "print(\"Test accuracy score : %s \\n\"% acc)\n",
        "\n",
        "averageMITBIH = predict_average(np.array(predictionsMITBIH))\n",
        "print('scores average MITBIH')\n",
        "\n",
        "f1 = f1_score(Y_test, averageMITBIH,average=\"macro\")\n",
        "\n",
        "print(\"Test f1 score : %s \"% f1)\n",
        "\n",
        "acc = accuracy_score(Y_test, averageMITBIH)\n",
        "\n",
        "print(\"Test accuracy score : %s \\n\"% acc)"
      ]
    },
    {
      "cell_type": "markdown",
      "metadata": {
        "id": "116W20baL0bR"
      },
      "source": [
        "# Task 4 : Transfer learning"
      ]
    },
    {
      "cell_type": "markdown",
      "metadata": {
        "id": "elnmcyuAL0bR"
      },
      "source": [
        "## Option 1"
      ]
    },
    {
      "cell_type": "code",
      "execution_count": null,
      "metadata": {
        "id": "H08A2VykL0bR"
      },
      "outputs": [],
      "source": [
        "#Transfer Learning code \n",
        "#Option 1\n",
        "\n",
        "pretrained_mitbih_rnn = load_model(\"gru_mitbih.h5\")\n",
        "pretrained_mitbih_rnn.summary()\n",
        "\n",
        "#cloned_pretrained is our best mitbih pretrained gru, with the fully connected layers removed\n",
        "\n",
        "cloned_pretrained = Sequential()\n",
        "for layer in pretrained_mitbih_rnn.layers[:-2]: # go through until last layer (it's in fact 4 layers, fc, relu, fc, and softmax)\n",
        "    cloned_pretrained.add(layer)\n",
        "cloned_pretrained.summary()\n",
        "opt = tf.keras.optimizers.Adam(0.001) #tf.optimizers.SGD(0.001)\n",
        "cloned_pretrained.compile(optimizer=opt, loss=losses.binary_crossentropy)\n",
        "\n",
        "representations_train_ptbdb = cloned_pretrained.predict(X_ptbdb)\n",
        "representations_test_ptbdb = cloned_pretrained.predict(X_test_ptbdb) \n",
        "\n",
        "\n",
        "#small_ffnn is a small feed-forward neural network roughly equivalent to the removed layers\n",
        "\n",
        "small_ffnn =  Sequential()\n",
        "small_ffnn.add(Dense(128, activation=activations.relu, input_shape = representations_train_ptbdb.shape[1:]))\n",
        "small_ffnn.add(Dense(64, activation=activations.relu))\n",
        "small_ffnn.add(Dense(1, activation = activations.sigmoid))\n",
        "small_ffnn.compile(optimizer=opt, loss=losses.binary_crossentropy, metrics=['acc',tf.keras.metrics.AUC(curve=\"ROC\",name=\"ROC\"),tf.keras.metrics.AUC(curve=\"PR\",name=\"PR\")])\n",
        "small_ffnn.summary()\n",
        "\n",
        "file_path = \"TL1_gru_ptbdb.h5\"\n",
        "checkpoint = ModelCheckpoint(file_path, monitor='val_acc', verbose=1, save_best_only=True, mode='max')\n",
        "early = EarlyStopping(monitor=\"val_acc\", mode=\"max\", patience=50, verbose=1)\n",
        "redonplat = ReduceLROnPlateau(monitor=\"val_acc\", mode=\"max\", patience=30, verbose=2)\n",
        "callbacks_list = [checkpoint, early, redonplat]  # early\n",
        "\n",
        "small_ffnn.fit(representations_train_ptbdb, Y_ptbdb, epochs=100, verbose=2, callbacks=callbacks_list, validation_split=0.1)\n",
        "\n",
        "pred_test = small_ffnn.predict(representations_test_ptbdb)\n",
        "pred_test = (pred_test>0.5).astype(np.int8)\n",
        "\n",
        "f1 = f1_score(Y_test_ptbdb, pred_test)\n",
        "\n",
        "print(\"Test f1 score : %s \"% f1)\n",
        "\n",
        "acc = accuracy_score(Y_test_ptbdb, pred_test)\n",
        "\n",
        "print(\"Test accuracy score : %s \"% acc)"
      ]
    },
    {
      "cell_type": "code",
      "execution_count": null,
      "metadata": {
        "id": "AuRiEiC0-f2F"
      },
      "outputs": [],
      "source": [
        "#Option 1 continued\n",
        "#To evaluate the contribution of pretraining we can compare the metric values of the previous small neural network\n",
        "#with the metric values that an almost equivalent feed-forward neural network produces, which however does not receive\n",
        "# the representations as inputs but rather the raw data. The results speak for themselves as we get:\n",
        "\n",
        "#small_raw_ffnn\n",
        "#Test f1 score : 0.9714964370546318 \n",
        "#Test accuracy score : 0.9587770525592579 \n",
        "\n",
        "#small_ffnn\n",
        "# Test f1 score : 0.9851169383416016 \n",
        "# Test accuracy score : 0.9783579525936105 \n",
        "\n",
        "#In conclusion, we see that transfer learning has sped up the convergence significantly\n",
        "small_raw_ffnn =  Sequential()\n",
        "small_raw_ffnn.add(Dense(128, activation=activations.relu, input_shape = (187,)))\n",
        "small_raw_ffnn.add(Dense(64, activation=activations.relu))\n",
        "small_raw_ffnn.add(Dense(1, activation = activations.sigmoid))\n",
        "small_raw_ffnn.compile(optimizer=opt, loss=losses.binary_crossentropy, metrics=['acc',tf.keras.metrics.AUC(curve=\"ROC\",name=\"ROC\"),tf.keras.metrics.AUC(curve=\"PR\",name=\"PR\")])\n",
        "small_raw_ffnn.summary()\n",
        "\n",
        "file_path = \"TL1_raw_gru_ptbdb.h5\"\n",
        "checkpoint = ModelCheckpoint(file_path, monitor='val_acc', verbose=1, save_best_only=True, mode='max')\n",
        "early = EarlyStopping(monitor=\"val_acc\", mode=\"max\", patience=50, verbose=1)\n",
        "redonplat = ReduceLROnPlateau(monitor=\"val_acc\", mode=\"max\", patience=30, verbose=2)\n",
        "callbacks_list = [checkpoint, early, redonplat]  # early\n",
        "\n",
        "small_raw_ffnn.fit(np.squeeze(X_ptbdb), Y_ptbdb, epochs=100, verbose=2, callbacks=callbacks_list, validation_split=0.1)\n",
        "\n",
        "pred_test = small_raw_ffnn.predict(np.squeeze(X_test_ptbdb))\n",
        "pred_test = (pred_test>0.5).astype(np.int8)\n",
        "\n",
        "f1 = f1_score(Y_test_ptbdb, pred_test)\n",
        "\n",
        "print(\"Test f1 score : %s \"% f1)\n",
        "\n",
        "acc = accuracy_score(Y_test_ptbdb, pred_test)\n",
        "\n",
        "print(\"Test accuracy score : %s \"% acc)"
      ]
    },
    {
      "cell_type": "markdown",
      "metadata": {
        "id": "LwnN2ZGUL0bS"
      },
      "source": [
        "## Option 2 "
      ]
    },
    {
      "cell_type": "code",
      "execution_count": null,
      "metadata": {
        "id": "TSx_GcYHL0bS"
      },
      "outputs": [],
      "source": [
        "#Transfer Learning code \n",
        "#Option 2\n",
        "\n",
        "pretrained_mitbih_rnn_2 = load_model(\"gru_mitbih.h5\")\n",
        "\n",
        "cloned_pretrained_2 = Sequential()\n",
        "for layer in pretrained_mitbih_rnn_2.layers[:-2]: # go through until last layer (it's in fact 2 layers, fc and softmax)\n",
        "    cloned_pretrained_2.add(layer)\n",
        "\n",
        "\n",
        "cloned_pretrained_2.add(Dense(64, activation = activations.relu))\n",
        "cloned_pretrained_2.add(Dense(1, activation = activations.sigmoid))\n",
        "\n",
        "cloned_pretrained_2.summary()\n",
        "opt = tf.keras.optimizers.Adam(0.001) #tf.optimizers.SGD(0.001)\n",
        "cloned_pretrained_2.compile(optimizer=opt, loss=losses.binary_crossentropy, metrics=['acc',tf.keras.metrics.AUC(curve=\"ROC\",name=\"ROC\"),tf.keras.metrics.AUC(curve=\"PR\",name=\"PR\")])\n",
        "\n",
        "\n",
        "\n",
        "file_path = \"TL2_gru_ptbdb.h5\"\n",
        "checkpoint = ModelCheckpoint(file_path, monitor='val_acc', verbose=1, save_best_only=True, mode='max')\n",
        "early = EarlyStopping(monitor=\"val_acc\", mode=\"max\", patience=50, verbose=1)\n",
        "redonplat = ReduceLROnPlateau(monitor=\"val_acc\", mode=\"max\", patience=30, verbose=2)\n",
        "callbacks_list = [checkpoint, early, redonplat]  # early\n",
        "\n",
        "cloned_pretrained_2.fit(X_ptbdb, Y_ptbdb, epochs=80, verbose=2, callbacks=callbacks_list, validation_split=0.1)\n",
        "\n",
        "pred_test = cloned_pretrained_2.predict(X_test_ptbdb)\n",
        "pred_test = (pred_test>0.5).astype(np.int8)\n",
        "\n",
        "f1 = f1_score(Y_test_ptbdb, pred_test)\n",
        "\n",
        "print(\"Test f1 score : %s \"% f1)\n",
        "\n",
        "acc = accuracy_score(Y_test_ptbdb, pred_test)\n",
        "\n",
        "print(\"Test accuracy score : %s \"% acc)"
      ]
    }
  ],
  "metadata": {
    "colab": {
      "collapsed_sections": [],
      "provenance": [],
      "toc_visible": true
    },
    "kernelspec": {
      "display_name": "Python 3",
      "name": "python3"
    },
    "language_info": {
      "codemirror_mode": {
        "name": "ipython",
        "version": 3
      },
      "file_extension": ".py",
      "mimetype": "text/x-python",
      "name": "python",
      "nbconvert_exporter": "python",
      "pygments_lexer": "ipython3",
      "version": "3.9.5"
    }
  },
  "nbformat": 4,
  "nbformat_minor": 0
}