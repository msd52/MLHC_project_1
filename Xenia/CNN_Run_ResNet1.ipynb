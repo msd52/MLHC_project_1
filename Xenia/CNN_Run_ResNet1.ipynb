{
 "cells": [
  {
   "cell_type": "code",
   "execution_count": 7,
   "id": "4accc8f3",
   "metadata": {},
   "outputs": [],
   "source": [
    "import pandas as pd\n",
    "import numpy as np\n",
    "import tensorflow as tf\n",
    "\n",
    "from tensorflow.python.keras import optimizers, losses, activations, models\n",
    "from tensorflow.python.keras.callbacks import ModelCheckpoint, EarlyStopping, LearningRateScheduler, ReduceLROnPlateau\n",
    "from tensorflow.python.keras.layers import Dense, Input, Dropout, Convolution1D, MaxPool1D, GlobalMaxPool1D, GlobalAveragePooling1D, \\\n",
    "    concatenate\n",
    "from sklearn.metrics import f1_score, accuracy_score\n"
   ]
  },
  {
   "cell_type": "code",
   "execution_count": 8,
   "id": "5838d572",
   "metadata": {},
   "outputs": [],
   "source": [
    "df_train = pd.read_csv(\"C:/03 Master/FS22/MLHC/Project/archive/mitbih_train.csv\", header=None)\n",
    "df_train = df_train.sample(frac=1)\n",
    "df_test = pd.read_csv(\"C:/03 Master/FS22/MLHC/Project/archive/mitbih_test.csv\", header=None)\n",
    "\n",
    "Y = np.array(df_train[187].values).astype(np.int8)\n",
    "X = np.array(df_train[list(range(187))].values)[..., np.newaxis]\n",
    "\n",
    "Y_test = np.array(df_test[187].values).astype(np.int8)\n",
    "X_test = np.array(df_test[list(range(187))].values)[..., np.newaxis]\n"
   ]
  },
  {
   "cell_type": "code",
   "execution_count": 19,
   "id": "3ece6bab",
   "metadata": {},
   "outputs": [],
   "source": [
    "def identity_block(x,filter):\n",
    "    x_skip = x\n",
    "    # Layer 1\n",
    "    x = tf.keras.layers.Conv1D(filter, kernel_size=5, padding = 'same')(x)\n",
    "    x = tf.keras.layers.BatchNormalization()(x)\n",
    "    x = tf.keras.layers.Activation('relu')(x)\n",
    "    # Layer 2\n",
    "    x = tf.keras.layers.Conv1D(filter, kernel_size=3, padding = 'same')(x)\n",
    "    x = tf.keras.layers.BatchNormalization()(x)\n",
    "    # Add Residue\n",
    "    #print(x_skip.shape())\n",
    "    #print(x.shape())\n",
    "    x = tf.keras.layers.Add()([x, x_skip])     \n",
    "    x = tf.keras.layers.Activation('relu')(x)\n",
    "    return x"
   ]
  },
  {
   "cell_type": "code",
   "execution_count": 40,
   "id": "9d074e1e",
   "metadata": {},
   "outputs": [],
   "source": [
    "def convolutional_block(x, filter):\n",
    "    # copy tensor to variable called x_skip\n",
    "    x_skip = x\n",
    "    # Layer 1\n",
    "    x = tf.keras.layers.Conv1D(filter, kernel_size=3, padding = 'same')(x)\n",
    "    x = tf.keras.layers.BatchNormalization()(x)\n",
    "    x = tf.keras.layers.Activation('relu')(x)\n",
    "    # Layer 2\n",
    "    x = tf.keras.layers.Conv1D(filter, kernel_size=3, padding = 'same')(x)\n",
    "    x = tf.keras.layers.BatchNormalization()(x)\n",
    "    # Processing Residue with conv(1,1)\n",
    "    x_skip = tf.keras.layers.Conv1D(filter, kernel_size=3, padding = 'same')(x_skip)\n",
    "    # Add Residue\n",
    "    x = tf.keras.layers.Add()([x, x_skip])     \n",
    "    x = tf.keras.layers.Activation('relu')(x)\n",
    "    return x"
   ]
  },
  {
   "cell_type": "code",
   "execution_count": 43,
   "id": "bc774d17",
   "metadata": {},
   "outputs": [],
   "source": [
    "def get_model():\n",
    "    nclass = 5\n",
    "    inp = Input(shape=(187, 1))\n",
    "    img_1 = tf.keras.layers.Convolution1D(16, kernel_size=5, activation=activations.relu, padding=\"same\")(inp)\n",
    "    img_1 = tf.keras.layers.Convolution1D(16, kernel_size=5, activation=activations.relu, padding=\"same\")(img_1)\n",
    "    img_1 = tf.keras.layers.MaxPool1D(pool_size=2)(img_1)\n",
    "    img_1 = tf.keras.layers.Dropout(rate=0.1)(img_1)\n",
    "    \n",
    "    img_2 = tf.keras.layers.Convolution1D(32, kernel_size=3, activation=activations.relu, padding=\"same\")(img_1)\n",
    "    img_2 = tf.keras.layers.Convolution1D(32, kernel_size=3, activation=activations.relu, padding=\"same\")(img_1)\n",
    "    img_2 = tf.keras.layers.MaxPool1D(pool_size=2)(img_1)\n",
    "    img_2 = tf.keras.layers.Dropout(rate=0.1)(img_1)\n",
    "    \n",
    "    img_shortcut = identity_block(img_1,16)\n",
    "    img_3 = tf.keras.layers.Conv1D(64, kernel_size=3, padding = 'same')(img_shortcut)\n",
    "    img_3 = tf.keras.layers.Conv1D(64, kernel_size=3, padding = 'same')(img_2)\n",
    "    img_1_3 = tf.keras.layers.Activation('relu')(img_3)\n",
    "    \n",
    "    img_4 = Convolution1D(32, kernel_size=3, activation=activations.relu, padding=\"same\")(img_1_3)\n",
    "    img_4 = Convolution1D(32, kernel_size=3, activation=activations.relu, padding=\"same\")(img_1_3)\n",
    "    img_4 = MaxPool1D(pool_size=2)(img_1_3)\n",
    "    img_4 = Dropout(rate=0.1)(img_1)\n",
    "    \n",
    "    img_shortcut2 = convolutional_block(img_1,256)\n",
    "    img_4 = tf.keras.layers.Conv1D(256, kernel_size=3, padding = 'same')(img_shortcut2)\n",
    "    img_4 = tf.keras.layers.Conv1D(256, kernel_size=3, padding = 'same')(img_4)\n",
    "    img_1_4 = tf.keras.layers.Activation('relu')(img_4)\n",
    "    img_1_4 = GlobalMaxPool1D()(img_1_4)\n",
    "    img_1_4 = Dropout(rate=0.2)(img_1_4)\n",
    "\n",
    "    dense_1 = tf.keras.layers.Dense(64, activation=activations.relu, name=\"dense_1\")(img_1_4)\n",
    "    dense_1 = tf.keras.layers.Dense(64, activation=activations.relu, name=\"dense_2\")(dense_1)\n",
    "    dense_1 = tf.keras.layers.Dense(nclass, activation=activations.softmax, name=\"dense_3_mitbih\")(dense_1)\n",
    "\n",
    "    model = models.Model(inputs=inp, outputs=dense_1)\n",
    "    opt = optimizers.Adam(0.001)\n",
    "\n",
    "    model.compile(optimizer=opt, loss=losses.sparse_categorical_crossentropy, metrics=['acc'])\n",
    "    model.summary()\n",
    "    return model"
   ]
  },
  {
   "cell_type": "code",
   "execution_count": 44,
   "id": "de93f5dd",
   "metadata": {},
   "outputs": [
    {
     "name": "stdout",
     "output_type": "stream",
     "text": [
      "Model: \"model_7\"\n",
      "__________________________________________________________________________________________________\n",
      "Layer (type)                    Output Shape         Param #     Connected to                     \n",
      "==================================================================================================\n",
      "input_14 (InputLayer)           [(None, 187, 1)]     0                                            \n",
      "__________________________________________________________________________________________________\n",
      "conv1d_133 (Conv1D)             (None, 187, 16)      96          input_14[0][0]                   \n",
      "__________________________________________________________________________________________________\n",
      "conv1d_134 (Conv1D)             (None, 187, 16)      1296        conv1d_133[0][0]                 \n",
      "__________________________________________________________________________________________________\n",
      "max_pooling1d_17 (MaxPooling1D) (None, 93, 16)       0           conv1d_134[0][0]                 \n",
      "__________________________________________________________________________________________________\n",
      "dropout_24 (Dropout)            (None, 93, 16)       0           max_pooling1d_17[0][0]           \n",
      "__________________________________________________________________________________________________\n",
      "conv1d_143 (Conv1D)             (None, 93, 256)      12544       dropout_24[0][0]                 \n",
      "__________________________________________________________________________________________________\n",
      "batch_normalization_30 (BatchNo (None, 93, 256)      1024        conv1d_143[0][0]                 \n",
      "__________________________________________________________________________________________________\n",
      "activation_42 (Activation)      (None, 93, 256)      0           batch_normalization_30[0][0]     \n",
      "__________________________________________________________________________________________________\n",
      "conv1d_144 (Conv1D)             (None, 93, 256)      196864      activation_42[0][0]              \n",
      "__________________________________________________________________________________________________\n",
      "batch_normalization_31 (BatchNo (None, 93, 256)      1024        conv1d_144[0][0]                 \n",
      "__________________________________________________________________________________________________\n",
      "conv1d_145 (Conv1D)             (None, 93, 256)      12544       dropout_24[0][0]                 \n",
      "__________________________________________________________________________________________________\n",
      "add_14 (Add)                    (None, 93, 256)      0           batch_normalization_31[0][0]     \n",
      "                                                                 conv1d_145[0][0]                 \n",
      "__________________________________________________________________________________________________\n",
      "activation_43 (Activation)      (None, 93, 256)      0           add_14[0][0]                     \n",
      "__________________________________________________________________________________________________\n",
      "conv1d_146 (Conv1D)             (None, 93, 256)      196864      activation_43[0][0]              \n",
      "__________________________________________________________________________________________________\n",
      "conv1d_147 (Conv1D)             (None, 93, 256)      196864      conv1d_146[0][0]                 \n",
      "__________________________________________________________________________________________________\n",
      "activation_44 (Activation)      (None, 93, 256)      0           conv1d_147[0][0]                 \n",
      "__________________________________________________________________________________________________\n",
      "global_max_pooling1d_7 (GlobalM (None, 256)          0           activation_44[0][0]              \n",
      "__________________________________________________________________________________________________\n",
      "dropout_27 (Dropout)            (None, 256)          0           global_max_pooling1d_7[0][0]     \n",
      "__________________________________________________________________________________________________\n",
      "dense_1 (Dense)                 (None, 64)           16448       dropout_27[0][0]                 \n",
      "__________________________________________________________________________________________________\n",
      "dense_2 (Dense)                 (None, 64)           4160        dense_1[0][0]                    \n",
      "__________________________________________________________________________________________________\n",
      "dense_3_mitbih (Dense)          (None, 5)            325         dense_2[0][0]                    \n",
      "==================================================================================================\n",
      "Total params: 640,053\n",
      "Trainable params: 639,029\n",
      "Non-trainable params: 1,024\n",
      "__________________________________________________________________________________________________\n"
     ]
    }
   ],
   "source": [
    "model = get_model()\n",
    "file_path = \"baseline_cnn_mitbih.h5\"\n",
    "checkpoint = ModelCheckpoint(file_path, monitor='val_acc', verbose=1, save_best_only=True, mode='max')\n",
    "early = EarlyStopping(monitor=\"val_acc\", mode=\"max\", patience=5, verbose=1)\n",
    "redonplat = ReduceLROnPlateau(monitor=\"val_acc\", mode=\"max\", patience=3, verbose=2)\n",
    "callbacks_list = [checkpoint, early, redonplat]  # early"
   ]
  },
  {
   "cell_type": "code",
   "execution_count": null,
   "id": "bfda64c6",
   "metadata": {},
   "outputs": [
    {
     "name": "stdout",
     "output_type": "stream",
     "text": [
      "Train on 78798 samples, validate on 8756 samples\n",
      "Epoch 1/1000\n",
      "\n",
      "Epoch 00001: val_acc improved from -inf to 0.95683, saving model to baseline_cnn_mitbih.h5\n",
      "78798/78798 - 507s - loss: 0.2228 - acc: 0.9398 - val_loss: 0.1586 - val_acc: 0.9568\n",
      "Epoch 2/1000\n",
      "\n",
      "Epoch 00002: val_acc improved from 0.95683 to 0.96779, saving model to baseline_cnn_mitbih.h5\n",
      "78798/78798 - 513s - loss: 0.1440 - acc: 0.9617 - val_loss: 0.1182 - val_acc: 0.9678\n",
      "Epoch 3/1000\n"
     ]
    }
   ],
   "source": [
    "model.fit(X, Y, epochs=1000, verbose=2, callbacks=callbacks_list, validation_split=0.1)\n",
    "model.load_weights(file_path)\n",
    "\n",
    "pred_test = model.predict(X_test)\n",
    "pred_test = np.argmax(pred_test, axis=-1)"
   ]
  },
  {
   "cell_type": "code",
   "execution_count": null,
   "id": "1c4b9ffc",
   "metadata": {},
   "outputs": [],
   "source": [
    "f1 = f1_score(Y_test, pred_test, average=\"macro\")\n",
    "\n",
    "print(\"Test f1 score : %s \"% f1)\n",
    "\n",
    "acc = accuracy_score(Y_test, pred_test)\n",
    "\n",
    "print(\"Test accuracy score : %s \"% acc)"
   ]
  },
  {
   "cell_type": "code",
   "execution_count": null,
   "id": "6f67f584",
   "metadata": {},
   "outputs": [],
   "source": []
  }
 ],
 "metadata": {
  "kernelspec": {
   "display_name": "Python 3 (ipykernel)",
   "language": "python",
   "name": "python3"
  },
  "language_info": {
   "codemirror_mode": {
    "name": "ipython",
    "version": 3
   },
   "file_extension": ".py",
   "mimetype": "text/x-python",
   "name": "python",
   "nbconvert_exporter": "python",
   "pygments_lexer": "ipython3",
   "version": "3.7.11"
  }
 },
 "nbformat": 4,
 "nbformat_minor": 5
}
